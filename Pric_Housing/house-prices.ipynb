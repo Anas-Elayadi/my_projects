{
 "cells": [
  {
   "cell_type": "markdown",
   "id": "db18364f",
   "metadata": {
    "papermill": {
     "duration": 0.013425,
     "end_time": "2023-08-29T14:01:09.974347",
     "exception": false,
     "start_time": "2023-08-29T14:01:09.960922",
     "status": "completed"
    },
    "tags": []
   },
   "source": [
    "# Import modules"
   ]
  },
  {
   "cell_type": "code",
   "execution_count": 1,
   "id": "9621ce26",
   "metadata": {
    "execution": {
     "iopub.execute_input": "2023-08-29T14:01:10.009325Z",
     "iopub.status.busy": "2023-08-29T14:01:10.008717Z",
     "iopub.status.idle": "2023-08-29T14:01:11.644095Z",
     "shell.execute_reply": "2023-08-29T14:01:11.643141Z"
    },
    "papermill": {
     "duration": 1.654425,
     "end_time": "2023-08-29T14:01:11.646857",
     "exception": false,
     "start_time": "2023-08-29T14:01:09.992432",
     "status": "completed"
    },
    "tags": []
   },
   "outputs": [
    {
     "name": "stderr",
     "output_type": "stream",
     "text": [
      "/opt/conda/lib/python3.10/site-packages/scipy/__init__.py:146: UserWarning: A NumPy version >=1.16.5 and <1.23.0 is required for this version of SciPy (detected version 1.23.5\n",
      "  warnings.warn(f\"A NumPy version >={np_minversion} and <{np_maxversion}\"\n"
     ]
    }
   ],
   "source": [
    "import pandas as pd\n",
    "import numpy as np\n",
    "from sklearn.impute import SimpleImputer\n",
    "from sklearn.preprocessing import OrdinalEncoder,OneHotEncoder\n",
    "from sklearn.preprocessing import StandardScaler\n",
    "from sklearn.decomposition import PCA\n",
    "import matplotlib.pyplot as plt\n",
    "from sklearn.linear_model import Lasso\n",
    "from sklearn.model_selection import train_test_split\n",
    "from sklearn.linear_model import LassoCV\n",
    "from sklearn.ensemble import RandomForestClassifier\n",
    "from sklearn.linear_model import LinearRegression\n",
    "from sklearn.metrics import mean_squared_error,r2_score\n",
    "from sklearn.svm import SVR\n",
    "from sklearn.ensemble import RandomForestRegressor\n",
    "from sklearn.model_selection import cross_val_score"
   ]
  },
  {
   "cell_type": "markdown",
   "id": "3e23db57",
   "metadata": {
    "papermill": {
     "duration": 0.011878,
     "end_time": "2023-08-29T14:01:11.671565",
     "exception": false,
     "start_time": "2023-08-29T14:01:11.659687",
     "status": "completed"
    },
    "tags": []
   },
   "source": [
    "# Read data from csv file & show information about it"
   ]
  },
  {
   "cell_type": "code",
   "execution_count": 2,
   "id": "e5e0c955",
   "metadata": {
    "execution": {
     "iopub.execute_input": "2023-08-29T14:01:11.699361Z",
     "iopub.status.busy": "2023-08-29T14:01:11.698231Z",
     "iopub.status.idle": "2023-08-29T14:01:11.780777Z",
     "shell.execute_reply": "2023-08-29T14:01:11.779900Z"
    },
    "papermill": {
     "duration": 0.099102,
     "end_time": "2023-08-29T14:01:11.783108",
     "exception": false,
     "start_time": "2023-08-29T14:01:11.684006",
     "status": "completed"
    },
    "tags": []
   },
   "outputs": [],
   "source": [
    "df=pd.read_csv('train.csv')"
   ]
  },
  {
   "cell_type": "code",
   "execution_count": 3,
   "id": "3016689a",
   "metadata": {
    "execution": {
     "iopub.execute_input": "2023-08-29T14:01:11.810945Z",
     "iopub.status.busy": "2023-08-29T14:01:11.810169Z",
     "iopub.status.idle": "2023-08-29T14:01:11.815799Z",
     "shell.execute_reply": "2023-08-29T14:01:11.814892Z"
    },
    "papermill": {
     "duration": 0.022205,
     "end_time": "2023-08-29T14:01:11.818114",
     "exception": false,
     "start_time": "2023-08-29T14:01:11.795909",
     "status": "completed"
    },
    "tags": []
   },
   "outputs": [],
   "source": [
    "df=df.copy()"
   ]
  },
  {
   "cell_type": "code",
   "execution_count": 4,
   "id": "07ed4014",
   "metadata": {
    "execution": {
     "iopub.execute_input": "2023-08-29T14:01:11.846935Z",
     "iopub.status.busy": "2023-08-29T14:01:11.846181Z",
     "iopub.status.idle": "2023-08-29T14:01:11.853327Z",
     "shell.execute_reply": "2023-08-29T14:01:11.852530Z"
    },
    "papermill": {
     "duration": 0.024375,
     "end_time": "2023-08-29T14:01:11.855854",
     "exception": false,
     "start_time": "2023-08-29T14:01:11.831479",
     "status": "completed"
    },
    "tags": []
   },
   "outputs": [
    {
     "data": {
      "text/plain": [
       "(1460, 81)"
      ]
     },
     "execution_count": 4,
     "metadata": {},
     "output_type": "execute_result"
    }
   ],
   "source": [
    "df.shape"
   ]
  },
  {
   "cell_type": "markdown",
   "id": "cdfdc371",
   "metadata": {
    "papermill": {
     "duration": 0.012264,
     "end_time": "2023-08-29T14:01:11.881632",
     "exception": false,
     "start_time": "2023-08-29T14:01:11.869368",
     "status": "completed"
    },
    "tags": []
   },
   "source": [
    "# Check missing values"
   ]
  },
  {
   "cell_type": "code",
   "execution_count": 5,
   "id": "df72c01b",
   "metadata": {
    "execution": {
     "iopub.execute_input": "2023-08-29T14:01:11.909484Z",
     "iopub.status.busy": "2023-08-29T14:01:11.908770Z",
     "iopub.status.idle": "2023-08-29T14:01:11.929078Z",
     "shell.execute_reply": "2023-08-29T14:01:11.927983Z"
    },
    "papermill": {
     "duration": 0.036788,
     "end_time": "2023-08-29T14:01:11.931365",
     "exception": false,
     "start_time": "2023-08-29T14:01:11.894577",
     "status": "completed"
    },
    "tags": []
   },
   "outputs": [
    {
     "data": {
      "text/plain": [
       "array([   0,    0,    0,  259,    0,    0, 1369,    0,    0,    0,    0,\n",
       "          0,    0,    0,    0,    0,    0,    0,    0,    0,    0,    0,\n",
       "          0,    0,    0,    8,    8,    0,    0,    0,   37,   37,   38,\n",
       "         37,    0,   38,    0,    0,    0,    0,    0,    0,    1,    0,\n",
       "          0,    0,    0,    0,    0,    0,    0,    0,    0,    0,    0,\n",
       "          0,    0,  690,   81,   81,   81,    0,    0,   81,   81,    0,\n",
       "          0,    0,    0,    0,    0,    0, 1453, 1179, 1406,    0,    0,\n",
       "          0,    0,    0,    0])"
      ]
     },
     "execution_count": 5,
     "metadata": {},
     "output_type": "execute_result"
    }
   ],
   "source": [
    "df.isnull().sum().values"
   ]
  },
  {
   "cell_type": "markdown",
   "id": "8e7fe003",
   "metadata": {
    "papermill": {
     "duration": 0.012203,
     "end_time": "2023-08-29T14:01:11.956326",
     "exception": false,
     "start_time": "2023-08-29T14:01:11.944123",
     "status": "completed"
    },
    "tags": []
   },
   "source": [
    "# Drop unused features"
   ]
  },
  {
   "cell_type": "code",
   "execution_count": 6,
   "id": "4f4ffa41",
   "metadata": {
    "execution": {
     "iopub.execute_input": "2023-08-29T14:01:11.983038Z",
     "iopub.status.busy": "2023-08-29T14:01:11.982633Z",
     "iopub.status.idle": "2023-08-29T14:01:11.996937Z",
     "shell.execute_reply": "2023-08-29T14:01:11.995909Z"
    },
    "papermill": {
     "duration": 0.030579,
     "end_time": "2023-08-29T14:01:11.999404",
     "exception": false,
     "start_time": "2023-08-29T14:01:11.968825",
     "status": "completed"
    },
    "tags": []
   },
   "outputs": [],
   "source": [
    "df=df.drop('Id',axis=1)"
   ]
  },
  {
   "cell_type": "code",
   "execution_count": 7,
   "id": "1582ddb8",
   "metadata": {
    "execution": {
     "iopub.execute_input": "2023-08-29T14:01:12.028969Z",
     "iopub.status.busy": "2023-08-29T14:01:12.028256Z",
     "iopub.status.idle": "2023-08-29T14:01:12.061488Z",
     "shell.execute_reply": "2023-08-29T14:01:12.060349Z"
    },
    "papermill": {
     "duration": 0.049686,
     "end_time": "2023-08-29T14:01:12.063831",
     "exception": false,
     "start_time": "2023-08-29T14:01:12.014145",
     "status": "completed"
    },
    "tags": []
   },
   "outputs": [
    {
     "data": {
      "text/html": [
       "<div>\n",
       "<style scoped>\n",
       "    .dataframe tbody tr th:only-of-type {\n",
       "        vertical-align: middle;\n",
       "    }\n",
       "\n",
       "    .dataframe tbody tr th {\n",
       "        vertical-align: top;\n",
       "    }\n",
       "\n",
       "    .dataframe thead th {\n",
       "        text-align: right;\n",
       "    }\n",
       "</style>\n",
       "<table border=\"1\" class=\"dataframe\">\n",
       "  <thead>\n",
       "    <tr style=\"text-align: right;\">\n",
       "      <th></th>\n",
       "      <th>MSSubClass</th>\n",
       "      <th>MSZoning</th>\n",
       "      <th>LotFrontage</th>\n",
       "      <th>LotArea</th>\n",
       "      <th>Street</th>\n",
       "      <th>Alley</th>\n",
       "      <th>LotShape</th>\n",
       "      <th>LandContour</th>\n",
       "      <th>Utilities</th>\n",
       "      <th>LotConfig</th>\n",
       "      <th>...</th>\n",
       "      <th>PoolArea</th>\n",
       "      <th>PoolQC</th>\n",
       "      <th>Fence</th>\n",
       "      <th>MiscFeature</th>\n",
       "      <th>MiscVal</th>\n",
       "      <th>MoSold</th>\n",
       "      <th>YrSold</th>\n",
       "      <th>SaleType</th>\n",
       "      <th>SaleCondition</th>\n",
       "      <th>SalePrice</th>\n",
       "    </tr>\n",
       "  </thead>\n",
       "  <tbody>\n",
       "    <tr>\n",
       "      <th>0</th>\n",
       "      <td>60</td>\n",
       "      <td>RL</td>\n",
       "      <td>65.0</td>\n",
       "      <td>8450</td>\n",
       "      <td>Pave</td>\n",
       "      <td>NaN</td>\n",
       "      <td>Reg</td>\n",
       "      <td>Lvl</td>\n",
       "      <td>AllPub</td>\n",
       "      <td>Inside</td>\n",
       "      <td>...</td>\n",
       "      <td>0</td>\n",
       "      <td>NaN</td>\n",
       "      <td>NaN</td>\n",
       "      <td>NaN</td>\n",
       "      <td>0</td>\n",
       "      <td>2</td>\n",
       "      <td>2008</td>\n",
       "      <td>WD</td>\n",
       "      <td>Normal</td>\n",
       "      <td>208500</td>\n",
       "    </tr>\n",
       "    <tr>\n",
       "      <th>1</th>\n",
       "      <td>20</td>\n",
       "      <td>RL</td>\n",
       "      <td>80.0</td>\n",
       "      <td>9600</td>\n",
       "      <td>Pave</td>\n",
       "      <td>NaN</td>\n",
       "      <td>Reg</td>\n",
       "      <td>Lvl</td>\n",
       "      <td>AllPub</td>\n",
       "      <td>FR2</td>\n",
       "      <td>...</td>\n",
       "      <td>0</td>\n",
       "      <td>NaN</td>\n",
       "      <td>NaN</td>\n",
       "      <td>NaN</td>\n",
       "      <td>0</td>\n",
       "      <td>5</td>\n",
       "      <td>2007</td>\n",
       "      <td>WD</td>\n",
       "      <td>Normal</td>\n",
       "      <td>181500</td>\n",
       "    </tr>\n",
       "    <tr>\n",
       "      <th>2</th>\n",
       "      <td>60</td>\n",
       "      <td>RL</td>\n",
       "      <td>68.0</td>\n",
       "      <td>11250</td>\n",
       "      <td>Pave</td>\n",
       "      <td>NaN</td>\n",
       "      <td>IR1</td>\n",
       "      <td>Lvl</td>\n",
       "      <td>AllPub</td>\n",
       "      <td>Inside</td>\n",
       "      <td>...</td>\n",
       "      <td>0</td>\n",
       "      <td>NaN</td>\n",
       "      <td>NaN</td>\n",
       "      <td>NaN</td>\n",
       "      <td>0</td>\n",
       "      <td>9</td>\n",
       "      <td>2008</td>\n",
       "      <td>WD</td>\n",
       "      <td>Normal</td>\n",
       "      <td>223500</td>\n",
       "    </tr>\n",
       "    <tr>\n",
       "      <th>3</th>\n",
       "      <td>70</td>\n",
       "      <td>RL</td>\n",
       "      <td>60.0</td>\n",
       "      <td>9550</td>\n",
       "      <td>Pave</td>\n",
       "      <td>NaN</td>\n",
       "      <td>IR1</td>\n",
       "      <td>Lvl</td>\n",
       "      <td>AllPub</td>\n",
       "      <td>Corner</td>\n",
       "      <td>...</td>\n",
       "      <td>0</td>\n",
       "      <td>NaN</td>\n",
       "      <td>NaN</td>\n",
       "      <td>NaN</td>\n",
       "      <td>0</td>\n",
       "      <td>2</td>\n",
       "      <td>2006</td>\n",
       "      <td>WD</td>\n",
       "      <td>Abnorml</td>\n",
       "      <td>140000</td>\n",
       "    </tr>\n",
       "    <tr>\n",
       "      <th>4</th>\n",
       "      <td>60</td>\n",
       "      <td>RL</td>\n",
       "      <td>84.0</td>\n",
       "      <td>14260</td>\n",
       "      <td>Pave</td>\n",
       "      <td>NaN</td>\n",
       "      <td>IR1</td>\n",
       "      <td>Lvl</td>\n",
       "      <td>AllPub</td>\n",
       "      <td>FR2</td>\n",
       "      <td>...</td>\n",
       "      <td>0</td>\n",
       "      <td>NaN</td>\n",
       "      <td>NaN</td>\n",
       "      <td>NaN</td>\n",
       "      <td>0</td>\n",
       "      <td>12</td>\n",
       "      <td>2008</td>\n",
       "      <td>WD</td>\n",
       "      <td>Normal</td>\n",
       "      <td>250000</td>\n",
       "    </tr>\n",
       "    <tr>\n",
       "      <th>...</th>\n",
       "      <td>...</td>\n",
       "      <td>...</td>\n",
       "      <td>...</td>\n",
       "      <td>...</td>\n",
       "      <td>...</td>\n",
       "      <td>...</td>\n",
       "      <td>...</td>\n",
       "      <td>...</td>\n",
       "      <td>...</td>\n",
       "      <td>...</td>\n",
       "      <td>...</td>\n",
       "      <td>...</td>\n",
       "      <td>...</td>\n",
       "      <td>...</td>\n",
       "      <td>...</td>\n",
       "      <td>...</td>\n",
       "      <td>...</td>\n",
       "      <td>...</td>\n",
       "      <td>...</td>\n",
       "      <td>...</td>\n",
       "      <td>...</td>\n",
       "    </tr>\n",
       "    <tr>\n",
       "      <th>1455</th>\n",
       "      <td>60</td>\n",
       "      <td>RL</td>\n",
       "      <td>62.0</td>\n",
       "      <td>7917</td>\n",
       "      <td>Pave</td>\n",
       "      <td>NaN</td>\n",
       "      <td>Reg</td>\n",
       "      <td>Lvl</td>\n",
       "      <td>AllPub</td>\n",
       "      <td>Inside</td>\n",
       "      <td>...</td>\n",
       "      <td>0</td>\n",
       "      <td>NaN</td>\n",
       "      <td>NaN</td>\n",
       "      <td>NaN</td>\n",
       "      <td>0</td>\n",
       "      <td>8</td>\n",
       "      <td>2007</td>\n",
       "      <td>WD</td>\n",
       "      <td>Normal</td>\n",
       "      <td>175000</td>\n",
       "    </tr>\n",
       "    <tr>\n",
       "      <th>1456</th>\n",
       "      <td>20</td>\n",
       "      <td>RL</td>\n",
       "      <td>85.0</td>\n",
       "      <td>13175</td>\n",
       "      <td>Pave</td>\n",
       "      <td>NaN</td>\n",
       "      <td>Reg</td>\n",
       "      <td>Lvl</td>\n",
       "      <td>AllPub</td>\n",
       "      <td>Inside</td>\n",
       "      <td>...</td>\n",
       "      <td>0</td>\n",
       "      <td>NaN</td>\n",
       "      <td>MnPrv</td>\n",
       "      <td>NaN</td>\n",
       "      <td>0</td>\n",
       "      <td>2</td>\n",
       "      <td>2010</td>\n",
       "      <td>WD</td>\n",
       "      <td>Normal</td>\n",
       "      <td>210000</td>\n",
       "    </tr>\n",
       "    <tr>\n",
       "      <th>1457</th>\n",
       "      <td>70</td>\n",
       "      <td>RL</td>\n",
       "      <td>66.0</td>\n",
       "      <td>9042</td>\n",
       "      <td>Pave</td>\n",
       "      <td>NaN</td>\n",
       "      <td>Reg</td>\n",
       "      <td>Lvl</td>\n",
       "      <td>AllPub</td>\n",
       "      <td>Inside</td>\n",
       "      <td>...</td>\n",
       "      <td>0</td>\n",
       "      <td>NaN</td>\n",
       "      <td>GdPrv</td>\n",
       "      <td>Shed</td>\n",
       "      <td>2500</td>\n",
       "      <td>5</td>\n",
       "      <td>2010</td>\n",
       "      <td>WD</td>\n",
       "      <td>Normal</td>\n",
       "      <td>266500</td>\n",
       "    </tr>\n",
       "    <tr>\n",
       "      <th>1458</th>\n",
       "      <td>20</td>\n",
       "      <td>RL</td>\n",
       "      <td>68.0</td>\n",
       "      <td>9717</td>\n",
       "      <td>Pave</td>\n",
       "      <td>NaN</td>\n",
       "      <td>Reg</td>\n",
       "      <td>Lvl</td>\n",
       "      <td>AllPub</td>\n",
       "      <td>Inside</td>\n",
       "      <td>...</td>\n",
       "      <td>0</td>\n",
       "      <td>NaN</td>\n",
       "      <td>NaN</td>\n",
       "      <td>NaN</td>\n",
       "      <td>0</td>\n",
       "      <td>4</td>\n",
       "      <td>2010</td>\n",
       "      <td>WD</td>\n",
       "      <td>Normal</td>\n",
       "      <td>142125</td>\n",
       "    </tr>\n",
       "    <tr>\n",
       "      <th>1459</th>\n",
       "      <td>20</td>\n",
       "      <td>RL</td>\n",
       "      <td>75.0</td>\n",
       "      <td>9937</td>\n",
       "      <td>Pave</td>\n",
       "      <td>NaN</td>\n",
       "      <td>Reg</td>\n",
       "      <td>Lvl</td>\n",
       "      <td>AllPub</td>\n",
       "      <td>Inside</td>\n",
       "      <td>...</td>\n",
       "      <td>0</td>\n",
       "      <td>NaN</td>\n",
       "      <td>NaN</td>\n",
       "      <td>NaN</td>\n",
       "      <td>0</td>\n",
       "      <td>6</td>\n",
       "      <td>2008</td>\n",
       "      <td>WD</td>\n",
       "      <td>Normal</td>\n",
       "      <td>147500</td>\n",
       "    </tr>\n",
       "  </tbody>\n",
       "</table>\n",
       "<p>1460 rows × 80 columns</p>\n",
       "</div>"
      ],
      "text/plain": [
       "      MSSubClass MSZoning  LotFrontage  LotArea Street Alley LotShape  \\\n",
       "0             60       RL         65.0     8450   Pave   NaN      Reg   \n",
       "1             20       RL         80.0     9600   Pave   NaN      Reg   \n",
       "2             60       RL         68.0    11250   Pave   NaN      IR1   \n",
       "3             70       RL         60.0     9550   Pave   NaN      IR1   \n",
       "4             60       RL         84.0    14260   Pave   NaN      IR1   \n",
       "...          ...      ...          ...      ...    ...   ...      ...   \n",
       "1455          60       RL         62.0     7917   Pave   NaN      Reg   \n",
       "1456          20       RL         85.0    13175   Pave   NaN      Reg   \n",
       "1457          70       RL         66.0     9042   Pave   NaN      Reg   \n",
       "1458          20       RL         68.0     9717   Pave   NaN      Reg   \n",
       "1459          20       RL         75.0     9937   Pave   NaN      Reg   \n",
       "\n",
       "     LandContour Utilities LotConfig  ... PoolArea PoolQC  Fence MiscFeature  \\\n",
       "0            Lvl    AllPub    Inside  ...        0    NaN    NaN         NaN   \n",
       "1            Lvl    AllPub       FR2  ...        0    NaN    NaN         NaN   \n",
       "2            Lvl    AllPub    Inside  ...        0    NaN    NaN         NaN   \n",
       "3            Lvl    AllPub    Corner  ...        0    NaN    NaN         NaN   \n",
       "4            Lvl    AllPub       FR2  ...        0    NaN    NaN         NaN   \n",
       "...          ...       ...       ...  ...      ...    ...    ...         ...   \n",
       "1455         Lvl    AllPub    Inside  ...        0    NaN    NaN         NaN   \n",
       "1456         Lvl    AllPub    Inside  ...        0    NaN  MnPrv         NaN   \n",
       "1457         Lvl    AllPub    Inside  ...        0    NaN  GdPrv        Shed   \n",
       "1458         Lvl    AllPub    Inside  ...        0    NaN    NaN         NaN   \n",
       "1459         Lvl    AllPub    Inside  ...        0    NaN    NaN         NaN   \n",
       "\n",
       "     MiscVal MoSold  YrSold  SaleType  SaleCondition  SalePrice  \n",
       "0          0      2    2008        WD         Normal     208500  \n",
       "1          0      5    2007        WD         Normal     181500  \n",
       "2          0      9    2008        WD         Normal     223500  \n",
       "3          0      2    2006        WD        Abnorml     140000  \n",
       "4          0     12    2008        WD         Normal     250000  \n",
       "...      ...    ...     ...       ...            ...        ...  \n",
       "1455       0      8    2007        WD         Normal     175000  \n",
       "1456       0      2    2010        WD         Normal     210000  \n",
       "1457    2500      5    2010        WD         Normal     266500  \n",
       "1458       0      4    2010        WD         Normal     142125  \n",
       "1459       0      6    2008        WD         Normal     147500  \n",
       "\n",
       "[1460 rows x 80 columns]"
      ]
     },
     "execution_count": 7,
     "metadata": {},
     "output_type": "execute_result"
    }
   ],
   "source": [
    "df"
   ]
  },
  {
   "cell_type": "markdown",
   "id": "9e0dda8d",
   "metadata": {
    "papermill": {
     "duration": 0.01299,
     "end_time": "2023-08-29T14:01:12.090191",
     "exception": false,
     "start_time": "2023-08-29T14:01:12.077201",
     "status": "completed"
    },
    "tags": []
   },
   "source": [
    "# classify categorical features between nominal and ordinal"
   ]
  },
  {
   "cell_type": "code",
   "execution_count": 8,
   "id": "49aeb92b",
   "metadata": {
    "execution": {
     "iopub.execute_input": "2023-08-29T14:01:12.119871Z",
     "iopub.status.busy": "2023-08-29T14:01:12.119126Z",
     "iopub.status.idle": "2023-08-29T14:01:12.125310Z",
     "shell.execute_reply": "2023-08-29T14:01:12.124505Z"
    },
    "papermill": {
     "duration": 0.023613,
     "end_time": "2023-08-29T14:01:12.127573",
     "exception": false,
     "start_time": "2023-08-29T14:01:12.103960",
     "status": "completed"
    },
    "tags": []
   },
   "outputs": [],
   "source": [
    "nominal_cols = [\n",
    "'MSZoning',\n",
    "'Street',\n",
    "'Alley','Utilities','LotConfig','Neighborhood','Condition1','Condition2',\n",
    "    'BldgType','HouseStyle','RoofStyle','RoofMatl','Exterior1st','Exterior2nd','MasVnrType',\n",
    "'Foundation','Heating','CentralAir','Electrical','PavedDrive',\n",
    "    'GarageType','MiscFeature','SaleType','SaleCondition'] \n",
    "\n",
    "\n",
    "ordinal_cols = ['MSSubClass','LotShape','LandContour','LandSlope','OverallQual','OverallCond',\n",
    "                'ExterQual','ExterCond','BsmtQual',\n",
    "                'BsmtCond','BsmtExposure','BsmtFinType1','BsmtFinType2',\n",
    "                'HeatingQC','KitchenQual',\n",
    "                'Functional',\n",
    "                'FireplaceQu','GarageFinish','GarageQual','GarageCond',\n",
    "                'PoolQC','Fence']"
   ]
  },
  {
   "cell_type": "markdown",
   "id": "e307d851",
   "metadata": {
    "papermill": {
     "duration": 0.012947,
     "end_time": "2023-08-29T14:01:12.154064",
     "exception": false,
     "start_time": "2023-08-29T14:01:12.141117",
     "status": "completed"
    },
    "tags": []
   },
   "source": [
    "# fill missing values and check it again"
   ]
  },
  {
   "cell_type": "code",
   "execution_count": 9,
   "id": "572fb9d0",
   "metadata": {
    "execution": {
     "iopub.execute_input": "2023-08-29T14:01:12.183706Z",
     "iopub.status.busy": "2023-08-29T14:01:12.183322Z",
     "iopub.status.idle": "2023-08-29T14:01:12.392609Z",
     "shell.execute_reply": "2023-08-29T14:01:12.391412Z"
    },
    "papermill": {
     "duration": 0.226412,
     "end_time": "2023-08-29T14:01:12.395276",
     "exception": false,
     "start_time": "2023-08-29T14:01:12.168864",
     "status": "completed"
    },
    "tags": []
   },
   "outputs": [],
   "source": [
    "columns=df.columns\n",
    "for col in columns:\n",
    "    if df[col].dtype in ('int64','float64') and col not in ordinal_cols and col not in nominal_cols:\n",
    "        imputer = SimpleImputer(missing_values=np.nan, strategy='mean')\n",
    "        imputer = imputer.fit(df[[col]])\n",
    "        df[col] = imputer.transform(df[[col]])\n",
    "    else:\n",
    "        mode_value = df[col].mode()[0]\n",
    "        # Replace missing values with the mode value\n",
    "        df[col].fillna(mode_value, inplace=True)"
   ]
  },
  {
   "cell_type": "code",
   "execution_count": 10,
   "id": "0081ffc9",
   "metadata": {
    "execution": {
     "iopub.execute_input": "2023-08-29T14:01:12.426372Z",
     "iopub.status.busy": "2023-08-29T14:01:12.425964Z",
     "iopub.status.idle": "2023-08-29T14:01:12.445126Z",
     "shell.execute_reply": "2023-08-29T14:01:12.444043Z"
    },
    "papermill": {
     "duration": 0.038218,
     "end_time": "2023-08-29T14:01:12.447620",
     "exception": false,
     "start_time": "2023-08-29T14:01:12.409402",
     "status": "completed"
    },
    "tags": []
   },
   "outputs": [
    {
     "data": {
      "text/plain": [
       "array([0, 0, 0, 0, 0, 0, 0, 0, 0, 0, 0, 0, 0, 0, 0, 0, 0, 0, 0, 0, 0, 0,\n",
       "       0, 0, 0, 0, 0, 0, 0, 0, 0, 0, 0, 0, 0, 0, 0, 0, 0, 0, 0, 0, 0, 0,\n",
       "       0, 0, 0, 0, 0, 0, 0, 0, 0, 0, 0, 0, 0, 0, 0, 0, 0, 0, 0, 0, 0, 0,\n",
       "       0, 0, 0, 0, 0, 0, 0, 0, 0, 0, 0, 0, 0, 0])"
      ]
     },
     "execution_count": 10,
     "metadata": {},
     "output_type": "execute_result"
    }
   ],
   "source": [
    "df.isnull().sum().values"
   ]
  },
  {
   "cell_type": "markdown",
   "id": "64674c99",
   "metadata": {
    "papermill": {
     "duration": 0.013241,
     "end_time": "2023-08-29T14:01:12.475861",
     "exception": false,
     "start_time": "2023-08-29T14:01:12.462620",
     "status": "completed"
    },
    "tags": []
   },
   "source": [
    "# Encode ordinal variables with OrdinalEncoder"
   ]
  },
  {
   "cell_type": "code",
   "execution_count": 11,
   "id": "65ab81f7",
   "metadata": {
    "execution": {
     "iopub.execute_input": "2023-08-29T14:01:12.506143Z",
     "iopub.status.busy": "2023-08-29T14:01:12.505752Z",
     "iopub.status.idle": "2023-08-29T14:01:12.543096Z",
     "shell.execute_reply": "2023-08-29T14:01:12.542094Z"
    },
    "papermill": {
     "duration": 0.05602,
     "end_time": "2023-08-29T14:01:12.546446",
     "exception": false,
     "start_time": "2023-08-29T14:01:12.490426",
     "status": "completed"
    },
    "tags": []
   },
   "outputs": [],
   "source": [
    "# Create an instance of OrdinalEncoder\n",
    "encoder = OrdinalEncoder()\n",
    "# Fit and transform the ordinal columns\n",
    "df[ordinal_cols] = encoder.fit_transform(df[ordinal_cols])"
   ]
  },
  {
   "cell_type": "markdown",
   "id": "adc078f0",
   "metadata": {
    "papermill": {
     "duration": 0.013634,
     "end_time": "2023-08-29T14:01:12.573781",
     "exception": false,
     "start_time": "2023-08-29T14:01:12.560147",
     "status": "completed"
    },
    "tags": []
   },
   "source": [
    "# Encode nominal variables with One-hot encoding"
   ]
  },
  {
   "cell_type": "code",
   "execution_count": 12,
   "id": "ce76bf3b",
   "metadata": {
    "execution": {
     "iopub.execute_input": "2023-08-29T14:01:12.603736Z",
     "iopub.status.busy": "2023-08-29T14:01:12.603348Z",
     "iopub.status.idle": "2023-08-29T14:01:12.636964Z",
     "shell.execute_reply": "2023-08-29T14:01:12.635578Z"
    },
    "papermill": {
     "duration": 0.05157,
     "end_time": "2023-08-29T14:01:12.639693",
     "exception": false,
     "start_time": "2023-08-29T14:01:12.588123",
     "status": "completed"
    },
    "tags": []
   },
   "outputs": [],
   "source": [
    "encoded_df = pd.get_dummies(df, columns=nominal_cols, drop_first=True)"
   ]
  },
  {
   "cell_type": "markdown",
   "id": "32d09aed",
   "metadata": {
    "papermill": {
     "duration": 0.016014,
     "end_time": "2023-08-29T14:01:12.670070",
     "exception": false,
     "start_time": "2023-08-29T14:01:12.654056",
     "status": "completed"
    },
    "tags": []
   },
   "source": [
    "# Check new dataframe "
   ]
  },
  {
   "cell_type": "code",
   "execution_count": 13,
   "id": "a150349c",
   "metadata": {
    "execution": {
     "iopub.execute_input": "2023-08-29T14:01:12.702637Z",
     "iopub.status.busy": "2023-08-29T14:01:12.702227Z",
     "iopub.status.idle": "2023-08-29T14:01:12.740148Z",
     "shell.execute_reply": "2023-08-29T14:01:12.738784Z"
    },
    "papermill": {
     "duration": 0.058033,
     "end_time": "2023-08-29T14:01:12.742961",
     "exception": false,
     "start_time": "2023-08-29T14:01:12.684928",
     "status": "completed"
    },
    "tags": []
   },
   "outputs": [
    {
     "data": {
      "text/html": [
       "<div>\n",
       "<style scoped>\n",
       "    .dataframe tbody tr th:only-of-type {\n",
       "        vertical-align: middle;\n",
       "    }\n",
       "\n",
       "    .dataframe tbody tr th {\n",
       "        vertical-align: top;\n",
       "    }\n",
       "\n",
       "    .dataframe thead th {\n",
       "        text-align: right;\n",
       "    }\n",
       "</style>\n",
       "<table border=\"1\" class=\"dataframe\">\n",
       "  <thead>\n",
       "    <tr style=\"text-align: right;\">\n",
       "      <th></th>\n",
       "      <th>MSSubClass</th>\n",
       "      <th>LotFrontage</th>\n",
       "      <th>LotArea</th>\n",
       "      <th>LotShape</th>\n",
       "      <th>LandContour</th>\n",
       "      <th>LandSlope</th>\n",
       "      <th>OverallQual</th>\n",
       "      <th>OverallCond</th>\n",
       "      <th>YearBuilt</th>\n",
       "      <th>YearRemodAdd</th>\n",
       "      <th>...</th>\n",
       "      <th>SaleType_ConLI</th>\n",
       "      <th>SaleType_ConLw</th>\n",
       "      <th>SaleType_New</th>\n",
       "      <th>SaleType_Oth</th>\n",
       "      <th>SaleType_WD</th>\n",
       "      <th>SaleCondition_AdjLand</th>\n",
       "      <th>SaleCondition_Alloca</th>\n",
       "      <th>SaleCondition_Family</th>\n",
       "      <th>SaleCondition_Normal</th>\n",
       "      <th>SaleCondition_Partial</th>\n",
       "    </tr>\n",
       "  </thead>\n",
       "  <tbody>\n",
       "    <tr>\n",
       "      <th>0</th>\n",
       "      <td>5.0</td>\n",
       "      <td>65.0</td>\n",
       "      <td>8450.0</td>\n",
       "      <td>3.0</td>\n",
       "      <td>3.0</td>\n",
       "      <td>0.0</td>\n",
       "      <td>6.0</td>\n",
       "      <td>4.0</td>\n",
       "      <td>2003.0</td>\n",
       "      <td>2003.0</td>\n",
       "      <td>...</td>\n",
       "      <td>0</td>\n",
       "      <td>0</td>\n",
       "      <td>0</td>\n",
       "      <td>0</td>\n",
       "      <td>1</td>\n",
       "      <td>0</td>\n",
       "      <td>0</td>\n",
       "      <td>0</td>\n",
       "      <td>1</td>\n",
       "      <td>0</td>\n",
       "    </tr>\n",
       "    <tr>\n",
       "      <th>1</th>\n",
       "      <td>0.0</td>\n",
       "      <td>80.0</td>\n",
       "      <td>9600.0</td>\n",
       "      <td>3.0</td>\n",
       "      <td>3.0</td>\n",
       "      <td>0.0</td>\n",
       "      <td>5.0</td>\n",
       "      <td>7.0</td>\n",
       "      <td>1976.0</td>\n",
       "      <td>1976.0</td>\n",
       "      <td>...</td>\n",
       "      <td>0</td>\n",
       "      <td>0</td>\n",
       "      <td>0</td>\n",
       "      <td>0</td>\n",
       "      <td>1</td>\n",
       "      <td>0</td>\n",
       "      <td>0</td>\n",
       "      <td>0</td>\n",
       "      <td>1</td>\n",
       "      <td>0</td>\n",
       "    </tr>\n",
       "    <tr>\n",
       "      <th>2</th>\n",
       "      <td>5.0</td>\n",
       "      <td>68.0</td>\n",
       "      <td>11250.0</td>\n",
       "      <td>0.0</td>\n",
       "      <td>3.0</td>\n",
       "      <td>0.0</td>\n",
       "      <td>6.0</td>\n",
       "      <td>4.0</td>\n",
       "      <td>2001.0</td>\n",
       "      <td>2002.0</td>\n",
       "      <td>...</td>\n",
       "      <td>0</td>\n",
       "      <td>0</td>\n",
       "      <td>0</td>\n",
       "      <td>0</td>\n",
       "      <td>1</td>\n",
       "      <td>0</td>\n",
       "      <td>0</td>\n",
       "      <td>0</td>\n",
       "      <td>1</td>\n",
       "      <td>0</td>\n",
       "    </tr>\n",
       "    <tr>\n",
       "      <th>3</th>\n",
       "      <td>6.0</td>\n",
       "      <td>60.0</td>\n",
       "      <td>9550.0</td>\n",
       "      <td>0.0</td>\n",
       "      <td>3.0</td>\n",
       "      <td>0.0</td>\n",
       "      <td>6.0</td>\n",
       "      <td>4.0</td>\n",
       "      <td>1915.0</td>\n",
       "      <td>1970.0</td>\n",
       "      <td>...</td>\n",
       "      <td>0</td>\n",
       "      <td>0</td>\n",
       "      <td>0</td>\n",
       "      <td>0</td>\n",
       "      <td>1</td>\n",
       "      <td>0</td>\n",
       "      <td>0</td>\n",
       "      <td>0</td>\n",
       "      <td>0</td>\n",
       "      <td>0</td>\n",
       "    </tr>\n",
       "    <tr>\n",
       "      <th>4</th>\n",
       "      <td>5.0</td>\n",
       "      <td>84.0</td>\n",
       "      <td>14260.0</td>\n",
       "      <td>0.0</td>\n",
       "      <td>3.0</td>\n",
       "      <td>0.0</td>\n",
       "      <td>7.0</td>\n",
       "      <td>4.0</td>\n",
       "      <td>2000.0</td>\n",
       "      <td>2000.0</td>\n",
       "      <td>...</td>\n",
       "      <td>0</td>\n",
       "      <td>0</td>\n",
       "      <td>0</td>\n",
       "      <td>0</td>\n",
       "      <td>1</td>\n",
       "      <td>0</td>\n",
       "      <td>0</td>\n",
       "      <td>0</td>\n",
       "      <td>1</td>\n",
       "      <td>0</td>\n",
       "    </tr>\n",
       "    <tr>\n",
       "      <th>...</th>\n",
       "      <td>...</td>\n",
       "      <td>...</td>\n",
       "      <td>...</td>\n",
       "      <td>...</td>\n",
       "      <td>...</td>\n",
       "      <td>...</td>\n",
       "      <td>...</td>\n",
       "      <td>...</td>\n",
       "      <td>...</td>\n",
       "      <td>...</td>\n",
       "      <td>...</td>\n",
       "      <td>...</td>\n",
       "      <td>...</td>\n",
       "      <td>...</td>\n",
       "      <td>...</td>\n",
       "      <td>...</td>\n",
       "      <td>...</td>\n",
       "      <td>...</td>\n",
       "      <td>...</td>\n",
       "      <td>...</td>\n",
       "      <td>...</td>\n",
       "    </tr>\n",
       "    <tr>\n",
       "      <th>1455</th>\n",
       "      <td>5.0</td>\n",
       "      <td>62.0</td>\n",
       "      <td>7917.0</td>\n",
       "      <td>3.0</td>\n",
       "      <td>3.0</td>\n",
       "      <td>0.0</td>\n",
       "      <td>5.0</td>\n",
       "      <td>4.0</td>\n",
       "      <td>1999.0</td>\n",
       "      <td>2000.0</td>\n",
       "      <td>...</td>\n",
       "      <td>0</td>\n",
       "      <td>0</td>\n",
       "      <td>0</td>\n",
       "      <td>0</td>\n",
       "      <td>1</td>\n",
       "      <td>0</td>\n",
       "      <td>0</td>\n",
       "      <td>0</td>\n",
       "      <td>1</td>\n",
       "      <td>0</td>\n",
       "    </tr>\n",
       "    <tr>\n",
       "      <th>1456</th>\n",
       "      <td>0.0</td>\n",
       "      <td>85.0</td>\n",
       "      <td>13175.0</td>\n",
       "      <td>3.0</td>\n",
       "      <td>3.0</td>\n",
       "      <td>0.0</td>\n",
       "      <td>5.0</td>\n",
       "      <td>5.0</td>\n",
       "      <td>1978.0</td>\n",
       "      <td>1988.0</td>\n",
       "      <td>...</td>\n",
       "      <td>0</td>\n",
       "      <td>0</td>\n",
       "      <td>0</td>\n",
       "      <td>0</td>\n",
       "      <td>1</td>\n",
       "      <td>0</td>\n",
       "      <td>0</td>\n",
       "      <td>0</td>\n",
       "      <td>1</td>\n",
       "      <td>0</td>\n",
       "    </tr>\n",
       "    <tr>\n",
       "      <th>1457</th>\n",
       "      <td>6.0</td>\n",
       "      <td>66.0</td>\n",
       "      <td>9042.0</td>\n",
       "      <td>3.0</td>\n",
       "      <td>3.0</td>\n",
       "      <td>0.0</td>\n",
       "      <td>6.0</td>\n",
       "      <td>8.0</td>\n",
       "      <td>1941.0</td>\n",
       "      <td>2006.0</td>\n",
       "      <td>...</td>\n",
       "      <td>0</td>\n",
       "      <td>0</td>\n",
       "      <td>0</td>\n",
       "      <td>0</td>\n",
       "      <td>1</td>\n",
       "      <td>0</td>\n",
       "      <td>0</td>\n",
       "      <td>0</td>\n",
       "      <td>1</td>\n",
       "      <td>0</td>\n",
       "    </tr>\n",
       "    <tr>\n",
       "      <th>1458</th>\n",
       "      <td>0.0</td>\n",
       "      <td>68.0</td>\n",
       "      <td>9717.0</td>\n",
       "      <td>3.0</td>\n",
       "      <td>3.0</td>\n",
       "      <td>0.0</td>\n",
       "      <td>4.0</td>\n",
       "      <td>5.0</td>\n",
       "      <td>1950.0</td>\n",
       "      <td>1996.0</td>\n",
       "      <td>...</td>\n",
       "      <td>0</td>\n",
       "      <td>0</td>\n",
       "      <td>0</td>\n",
       "      <td>0</td>\n",
       "      <td>1</td>\n",
       "      <td>0</td>\n",
       "      <td>0</td>\n",
       "      <td>0</td>\n",
       "      <td>1</td>\n",
       "      <td>0</td>\n",
       "    </tr>\n",
       "    <tr>\n",
       "      <th>1459</th>\n",
       "      <td>0.0</td>\n",
       "      <td>75.0</td>\n",
       "      <td>9937.0</td>\n",
       "      <td>3.0</td>\n",
       "      <td>3.0</td>\n",
       "      <td>0.0</td>\n",
       "      <td>4.0</td>\n",
       "      <td>5.0</td>\n",
       "      <td>1965.0</td>\n",
       "      <td>1965.0</td>\n",
       "      <td>...</td>\n",
       "      <td>0</td>\n",
       "      <td>0</td>\n",
       "      <td>0</td>\n",
       "      <td>0</td>\n",
       "      <td>1</td>\n",
       "      <td>0</td>\n",
       "      <td>0</td>\n",
       "      <td>0</td>\n",
       "      <td>1</td>\n",
       "      <td>0</td>\n",
       "    </tr>\n",
       "  </tbody>\n",
       "</table>\n",
       "<p>1460 rows × 199 columns</p>\n",
       "</div>"
      ],
      "text/plain": [
       "      MSSubClass  LotFrontage  LotArea  LotShape  LandContour  LandSlope  \\\n",
       "0            5.0         65.0   8450.0       3.0          3.0        0.0   \n",
       "1            0.0         80.0   9600.0       3.0          3.0        0.0   \n",
       "2            5.0         68.0  11250.0       0.0          3.0        0.0   \n",
       "3            6.0         60.0   9550.0       0.0          3.0        0.0   \n",
       "4            5.0         84.0  14260.0       0.0          3.0        0.0   \n",
       "...          ...          ...      ...       ...          ...        ...   \n",
       "1455         5.0         62.0   7917.0       3.0          3.0        0.0   \n",
       "1456         0.0         85.0  13175.0       3.0          3.0        0.0   \n",
       "1457         6.0         66.0   9042.0       3.0          3.0        0.0   \n",
       "1458         0.0         68.0   9717.0       3.0          3.0        0.0   \n",
       "1459         0.0         75.0   9937.0       3.0          3.0        0.0   \n",
       "\n",
       "      OverallQual  OverallCond  YearBuilt  YearRemodAdd  ...  SaleType_ConLI  \\\n",
       "0             6.0          4.0     2003.0        2003.0  ...               0   \n",
       "1             5.0          7.0     1976.0        1976.0  ...               0   \n",
       "2             6.0          4.0     2001.0        2002.0  ...               0   \n",
       "3             6.0          4.0     1915.0        1970.0  ...               0   \n",
       "4             7.0          4.0     2000.0        2000.0  ...               0   \n",
       "...           ...          ...        ...           ...  ...             ...   \n",
       "1455          5.0          4.0     1999.0        2000.0  ...               0   \n",
       "1456          5.0          5.0     1978.0        1988.0  ...               0   \n",
       "1457          6.0          8.0     1941.0        2006.0  ...               0   \n",
       "1458          4.0          5.0     1950.0        1996.0  ...               0   \n",
       "1459          4.0          5.0     1965.0        1965.0  ...               0   \n",
       "\n",
       "      SaleType_ConLw  SaleType_New  SaleType_Oth  SaleType_WD  \\\n",
       "0                  0             0             0            1   \n",
       "1                  0             0             0            1   \n",
       "2                  0             0             0            1   \n",
       "3                  0             0             0            1   \n",
       "4                  0             0             0            1   \n",
       "...              ...           ...           ...          ...   \n",
       "1455               0             0             0            1   \n",
       "1456               0             0             0            1   \n",
       "1457               0             0             0            1   \n",
       "1458               0             0             0            1   \n",
       "1459               0             0             0            1   \n",
       "\n",
       "      SaleCondition_AdjLand  SaleCondition_Alloca  SaleCondition_Family  \\\n",
       "0                         0                     0                     0   \n",
       "1                         0                     0                     0   \n",
       "2                         0                     0                     0   \n",
       "3                         0                     0                     0   \n",
       "4                         0                     0                     0   \n",
       "...                     ...                   ...                   ...   \n",
       "1455                      0                     0                     0   \n",
       "1456                      0                     0                     0   \n",
       "1457                      0                     0                     0   \n",
       "1458                      0                     0                     0   \n",
       "1459                      0                     0                     0   \n",
       "\n",
       "      SaleCondition_Normal  SaleCondition_Partial  \n",
       "0                        1                      0  \n",
       "1                        1                      0  \n",
       "2                        1                      0  \n",
       "3                        0                      0  \n",
       "4                        1                      0  \n",
       "...                    ...                    ...  \n",
       "1455                     1                      0  \n",
       "1456                     1                      0  \n",
       "1457                     1                      0  \n",
       "1458                     1                      0  \n",
       "1459                     1                      0  \n",
       "\n",
       "[1460 rows x 199 columns]"
      ]
     },
     "execution_count": 13,
     "metadata": {},
     "output_type": "execute_result"
    }
   ],
   "source": [
    "encoded_df"
   ]
  },
  {
   "cell_type": "code",
   "execution_count": 14,
   "id": "71bb92ce",
   "metadata": {
    "execution": {
     "iopub.execute_input": "2023-08-29T14:01:12.776529Z",
     "iopub.status.busy": "2023-08-29T14:01:12.775274Z",
     "iopub.status.idle": "2023-08-29T14:01:12.782040Z",
     "shell.execute_reply": "2023-08-29T14:01:12.780933Z"
    },
    "papermill": {
     "duration": 0.02657,
     "end_time": "2023-08-29T14:01:12.784425",
     "exception": false,
     "start_time": "2023-08-29T14:01:12.757855",
     "status": "completed"
    },
    "tags": []
   },
   "outputs": [
    {
     "data": {
      "text/plain": [
       "(1460, 199)"
      ]
     },
     "execution_count": 14,
     "metadata": {},
     "output_type": "execute_result"
    }
   ],
   "source": [
    "encoded_df.shape"
   ]
  },
  {
   "cell_type": "markdown",
   "id": "12950c3a",
   "metadata": {
    "papermill": {
     "duration": 0.014714,
     "end_time": "2023-08-29T14:01:12.814812",
     "exception": false,
     "start_time": "2023-08-29T14:01:12.800098",
     "status": "completed"
    },
    "tags": []
   },
   "source": [
    "# Standardization of numerical variables "
   ]
  },
  {
   "cell_type": "code",
   "execution_count": 15,
   "id": "a9197f93",
   "metadata": {
    "execution": {
     "iopub.execute_input": "2023-08-29T14:01:12.848478Z",
     "iopub.status.busy": "2023-08-29T14:01:12.847804Z",
     "iopub.status.idle": "2023-08-29T14:01:12.997516Z",
     "shell.execute_reply": "2023-08-29T14:01:12.996317Z"
    },
    "papermill": {
     "duration": 0.169605,
     "end_time": "2023-08-29T14:01:13.000168",
     "exception": false,
     "start_time": "2023-08-29T14:01:12.830563",
     "status": "completed"
    },
    "tags": []
   },
   "outputs": [],
   "source": [
    "scaler = StandardScaler()\n",
    "for col in encoded_df.columns:\n",
    "    if encoded_df[col].dtype in ('int64','float64') and col not in ordinal_cols and col not in nominal_cols and col!='SalePrice':\n",
    "        # Fit and transform the numerical columns in your DataFrame\n",
    "        encoded_df[col] = scaler.fit_transform(encoded_df[[col]])"
   ]
  },
  {
   "cell_type": "markdown",
   "id": "97a25545",
   "metadata": {
    "papermill": {
     "duration": 0.014669,
     "end_time": "2023-08-29T14:01:13.030449",
     "exception": false,
     "start_time": "2023-08-29T14:01:13.015780",
     "status": "completed"
    },
    "tags": []
   },
   "source": [
    "# Correlation matrix"
   ]
  },
  {
   "cell_type": "code",
   "execution_count": 16,
   "id": "81ae8066",
   "metadata": {
    "execution": {
     "iopub.execute_input": "2023-08-29T14:01:13.064015Z",
     "iopub.status.busy": "2023-08-29T14:01:13.063622Z",
     "iopub.status.idle": "2023-08-29T14:01:13.255261Z",
     "shell.execute_reply": "2023-08-29T14:01:13.253968Z"
    },
    "papermill": {
     "duration": 0.2108,
     "end_time": "2023-08-29T14:01:13.257516",
     "exception": false,
     "start_time": "2023-08-29T14:01:13.046716",
     "status": "completed"
    },
    "tags": []
   },
   "outputs": [
    {
     "data": {
      "text/html": [
       "<div>\n",
       "<style scoped>\n",
       "    .dataframe tbody tr th:only-of-type {\n",
       "        vertical-align: middle;\n",
       "    }\n",
       "\n",
       "    .dataframe tbody tr th {\n",
       "        vertical-align: top;\n",
       "    }\n",
       "\n",
       "    .dataframe thead th {\n",
       "        text-align: right;\n",
       "    }\n",
       "</style>\n",
       "<table border=\"1\" class=\"dataframe\">\n",
       "  <thead>\n",
       "    <tr style=\"text-align: right;\">\n",
       "      <th></th>\n",
       "      <th>MSSubClass</th>\n",
       "      <th>LotFrontage</th>\n",
       "      <th>LotArea</th>\n",
       "      <th>LotShape</th>\n",
       "      <th>LandContour</th>\n",
       "      <th>LandSlope</th>\n",
       "      <th>OverallQual</th>\n",
       "      <th>OverallCond</th>\n",
       "      <th>YearBuilt</th>\n",
       "      <th>YearRemodAdd</th>\n",
       "      <th>...</th>\n",
       "      <th>SaleType_ConLI</th>\n",
       "      <th>SaleType_ConLw</th>\n",
       "      <th>SaleType_New</th>\n",
       "      <th>SaleType_Oth</th>\n",
       "      <th>SaleType_WD</th>\n",
       "      <th>SaleCondition_AdjLand</th>\n",
       "      <th>SaleCondition_Alloca</th>\n",
       "      <th>SaleCondition_Family</th>\n",
       "      <th>SaleCondition_Normal</th>\n",
       "      <th>SaleCondition_Partial</th>\n",
       "    </tr>\n",
       "  </thead>\n",
       "  <tbody>\n",
       "    <tr>\n",
       "      <th>MSSubClass</th>\n",
       "      <td>1.000000</td>\n",
       "      <td>-0.308758</td>\n",
       "      <td>-0.132505</td>\n",
       "      <td>0.090920</td>\n",
       "      <td>-0.007658</td>\n",
       "      <td>-0.029300</td>\n",
       "      <td>0.056546</td>\n",
       "      <td>-0.060795</td>\n",
       "      <td>0.033544</td>\n",
       "      <td>0.039944</td>\n",
       "      <td>...</td>\n",
       "      <td>0.008927</td>\n",
       "      <td>0.020199</td>\n",
       "      <td>-0.054913</td>\n",
       "      <td>-0.009086</td>\n",
       "      <td>0.035542</td>\n",
       "      <td>0.035697</td>\n",
       "      <td>0.063823</td>\n",
       "      <td>0.010865</td>\n",
       "      <td>0.021282</td>\n",
       "      <td>-0.061665</td>\n",
       "    </tr>\n",
       "    <tr>\n",
       "      <th>LotFrontage</th>\n",
       "      <td>-0.308758</td>\n",
       "      <td>1.000000</td>\n",
       "      <td>0.306795</td>\n",
       "      <td>-0.144931</td>\n",
       "      <td>-0.075647</td>\n",
       "      <td>0.067608</td>\n",
       "      <td>0.234196</td>\n",
       "      <td>-0.052820</td>\n",
       "      <td>0.117598</td>\n",
       "      <td>0.082746</td>\n",
       "      <td>...</td>\n",
       "      <td>0.012674</td>\n",
       "      <td>-0.051787</td>\n",
       "      <td>0.126580</td>\n",
       "      <td>-0.023461</td>\n",
       "      <td>-0.089928</td>\n",
       "      <td>-0.037020</td>\n",
       "      <td>-0.018090</td>\n",
       "      <td>0.015818</td>\n",
       "      <td>-0.072074</td>\n",
       "      <td>0.124842</td>\n",
       "    </tr>\n",
       "    <tr>\n",
       "      <th>LotArea</th>\n",
       "      <td>-0.132505</td>\n",
       "      <td>0.306795</td>\n",
       "      <td>1.000000</td>\n",
       "      <td>-0.165315</td>\n",
       "      <td>-0.149083</td>\n",
       "      <td>0.436868</td>\n",
       "      <td>0.105806</td>\n",
       "      <td>-0.005636</td>\n",
       "      <td>0.014228</td>\n",
       "      <td>0.013788</td>\n",
       "      <td>...</td>\n",
       "      <td>0.001076</td>\n",
       "      <td>-0.015040</td>\n",
       "      <td>0.020039</td>\n",
       "      <td>-0.005722</td>\n",
       "      <td>-0.002292</td>\n",
       "      <td>-0.013208</td>\n",
       "      <td>0.008966</td>\n",
       "      <td>-0.010781</td>\n",
       "      <td>0.005711</td>\n",
       "      <td>0.022635</td>\n",
       "    </tr>\n",
       "    <tr>\n",
       "      <th>LotShape</th>\n",
       "      <td>0.090920</td>\n",
       "      <td>-0.144931</td>\n",
       "      <td>-0.165315</td>\n",
       "      <td>1.000000</td>\n",
       "      <td>0.085434</td>\n",
       "      <td>-0.099951</td>\n",
       "      <td>-0.190497</td>\n",
       "      <td>0.013693</td>\n",
       "      <td>-0.226062</td>\n",
       "      <td>-0.153825</td>\n",
       "      <td>...</td>\n",
       "      <td>-0.005929</td>\n",
       "      <td>0.002394</td>\n",
       "      <td>-0.038621</td>\n",
       "      <td>0.001853</td>\n",
       "      <td>0.021384</td>\n",
       "      <td>0.011443</td>\n",
       "      <td>0.036030</td>\n",
       "      <td>0.034095</td>\n",
       "      <td>-0.005162</td>\n",
       "      <td>-0.037898</td>\n",
       "    </tr>\n",
       "    <tr>\n",
       "      <th>LandContour</th>\n",
       "      <td>-0.007658</td>\n",
       "      <td>-0.075647</td>\n",
       "      <td>-0.149083</td>\n",
       "      <td>0.085434</td>\n",
       "      <td>1.000000</td>\n",
       "      <td>-0.374267</td>\n",
       "      <td>0.028907</td>\n",
       "      <td>-0.045271</td>\n",
       "      <td>0.161622</td>\n",
       "      <td>0.093374</td>\n",
       "      <td>...</td>\n",
       "      <td>0.018446</td>\n",
       "      <td>-0.031273</td>\n",
       "      <td>-0.002948</td>\n",
       "      <td>0.014278</td>\n",
       "      <td>-0.011327</td>\n",
       "      <td>0.016493</td>\n",
       "      <td>-0.153658</td>\n",
       "      <td>0.003765</td>\n",
       "      <td>0.044604</td>\n",
       "      <td>-0.004065</td>\n",
       "    </tr>\n",
       "    <tr>\n",
       "      <th>...</th>\n",
       "      <td>...</td>\n",
       "      <td>...</td>\n",
       "      <td>...</td>\n",
       "      <td>...</td>\n",
       "      <td>...</td>\n",
       "      <td>...</td>\n",
       "      <td>...</td>\n",
       "      <td>...</td>\n",
       "      <td>...</td>\n",
       "      <td>...</td>\n",
       "      <td>...</td>\n",
       "      <td>...</td>\n",
       "      <td>...</td>\n",
       "      <td>...</td>\n",
       "      <td>...</td>\n",
       "      <td>...</td>\n",
       "      <td>...</td>\n",
       "      <td>...</td>\n",
       "      <td>...</td>\n",
       "      <td>...</td>\n",
       "      <td>...</td>\n",
       "    </tr>\n",
       "    <tr>\n",
       "      <th>SaleCondition_AdjLand</th>\n",
       "      <td>0.035697</td>\n",
       "      <td>-0.037020</td>\n",
       "      <td>-0.013208</td>\n",
       "      <td>0.011443</td>\n",
       "      <td>0.016493</td>\n",
       "      <td>-0.011831</td>\n",
       "      <td>-0.041677</td>\n",
       "      <td>-0.038888</td>\n",
       "      <td>-0.045601</td>\n",
       "      <td>-0.040294</td>\n",
       "      <td>...</td>\n",
       "      <td>-0.003073</td>\n",
       "      <td>-0.003073</td>\n",
       "      <td>-0.015827</td>\n",
       "      <td>-0.002378</td>\n",
       "      <td>0.020457</td>\n",
       "      <td>1.000000</td>\n",
       "      <td>-0.004772</td>\n",
       "      <td>-0.006177</td>\n",
       "      <td>-0.112080</td>\n",
       "      <td>-0.016038</td>\n",
       "    </tr>\n",
       "    <tr>\n",
       "      <th>SaleCondition_Alloca</th>\n",
       "      <td>0.063823</td>\n",
       "      <td>-0.018090</td>\n",
       "      <td>0.008966</td>\n",
       "      <td>0.036030</td>\n",
       "      <td>-0.153658</td>\n",
       "      <td>0.034397</td>\n",
       "      <td>-0.044950</td>\n",
       "      <td>-0.033444</td>\n",
       "      <td>-0.010104</td>\n",
       "      <td>-0.020727</td>\n",
       "      <td>...</td>\n",
       "      <td>-0.005337</td>\n",
       "      <td>-0.005337</td>\n",
       "      <td>-0.027489</td>\n",
       "      <td>-0.004131</td>\n",
       "      <td>0.035530</td>\n",
       "      <td>-0.004772</td>\n",
       "      <td>1.000000</td>\n",
       "      <td>-0.010729</td>\n",
       "      <td>-0.194663</td>\n",
       "      <td>-0.027856</td>\n",
       "    </tr>\n",
       "    <tr>\n",
       "      <th>SaleCondition_Family</th>\n",
       "      <td>0.010865</td>\n",
       "      <td>0.015818</td>\n",
       "      <td>-0.010781</td>\n",
       "      <td>0.034095</td>\n",
       "      <td>0.003765</td>\n",
       "      <td>0.037417</td>\n",
       "      <td>-0.025515</td>\n",
       "      <td>-0.023873</td>\n",
       "      <td>-0.035785</td>\n",
       "      <td>-0.048056</td>\n",
       "      <td>...</td>\n",
       "      <td>-0.006909</td>\n",
       "      <td>-0.006909</td>\n",
       "      <td>-0.035587</td>\n",
       "      <td>-0.005348</td>\n",
       "      <td>0.028599</td>\n",
       "      <td>-0.006177</td>\n",
       "      <td>-0.010729</td>\n",
       "      <td>1.000000</td>\n",
       "      <td>-0.252006</td>\n",
       "      <td>-0.036062</td>\n",
       "    </tr>\n",
       "    <tr>\n",
       "      <th>SaleCondition_Normal</th>\n",
       "      <td>0.021282</td>\n",
       "      <td>-0.072074</td>\n",
       "      <td>0.005711</td>\n",
       "      <td>-0.005162</td>\n",
       "      <td>0.044604</td>\n",
       "      <td>-0.004330</td>\n",
       "      <td>-0.143282</td>\n",
       "      <td>0.161642</td>\n",
       "      <td>-0.158427</td>\n",
       "      <td>-0.120577</td>\n",
       "      <td>...</td>\n",
       "      <td>-0.003139</td>\n",
       "      <td>0.027414</td>\n",
       "      <td>-0.645698</td>\n",
       "      <td>-0.097031</td>\n",
       "      <td>0.634322</td>\n",
       "      <td>-0.112080</td>\n",
       "      <td>-0.194663</td>\n",
       "      <td>-0.252006</td>\n",
       "      <td>1.000000</td>\n",
       "      <td>-0.654323</td>\n",
       "    </tr>\n",
       "    <tr>\n",
       "      <th>SaleCondition_Partial</th>\n",
       "      <td>-0.061665</td>\n",
       "      <td>0.124842</td>\n",
       "      <td>0.022635</td>\n",
       "      <td>-0.037898</td>\n",
       "      <td>-0.004065</td>\n",
       "      <td>-0.042473</td>\n",
       "      <td>0.323295</td>\n",
       "      <td>-0.151659</td>\n",
       "      <td>0.343895</td>\n",
       "      <td>0.322837</td>\n",
       "      <td>...</td>\n",
       "      <td>-0.017938</td>\n",
       "      <td>-0.017938</td>\n",
       "      <td>0.986819</td>\n",
       "      <td>-0.013885</td>\n",
       "      <td>-0.769559</td>\n",
       "      <td>-0.016038</td>\n",
       "      <td>-0.027856</td>\n",
       "      <td>-0.036062</td>\n",
       "      <td>-0.654323</td>\n",
       "      <td>1.000000</td>\n",
       "    </tr>\n",
       "  </tbody>\n",
       "</table>\n",
       "<p>199 rows × 199 columns</p>\n",
       "</div>"
      ],
      "text/plain": [
       "                       MSSubClass  LotFrontage   LotArea  LotShape  \\\n",
       "MSSubClass               1.000000    -0.308758 -0.132505  0.090920   \n",
       "LotFrontage             -0.308758     1.000000  0.306795 -0.144931   \n",
       "LotArea                 -0.132505     0.306795  1.000000 -0.165315   \n",
       "LotShape                 0.090920    -0.144931 -0.165315  1.000000   \n",
       "LandContour             -0.007658    -0.075647 -0.149083  0.085434   \n",
       "...                           ...          ...       ...       ...   \n",
       "SaleCondition_AdjLand    0.035697    -0.037020 -0.013208  0.011443   \n",
       "SaleCondition_Alloca     0.063823    -0.018090  0.008966  0.036030   \n",
       "SaleCondition_Family     0.010865     0.015818 -0.010781  0.034095   \n",
       "SaleCondition_Normal     0.021282    -0.072074  0.005711 -0.005162   \n",
       "SaleCondition_Partial   -0.061665     0.124842  0.022635 -0.037898   \n",
       "\n",
       "                       LandContour  LandSlope  OverallQual  OverallCond  \\\n",
       "MSSubClass               -0.007658  -0.029300     0.056546    -0.060795   \n",
       "LotFrontage              -0.075647   0.067608     0.234196    -0.052820   \n",
       "LotArea                  -0.149083   0.436868     0.105806    -0.005636   \n",
       "LotShape                  0.085434  -0.099951    -0.190497     0.013693   \n",
       "LandContour               1.000000  -0.374267     0.028907    -0.045271   \n",
       "...                            ...        ...          ...          ...   \n",
       "SaleCondition_AdjLand     0.016493  -0.011831    -0.041677    -0.038888   \n",
       "SaleCondition_Alloca     -0.153658   0.034397    -0.044950    -0.033444   \n",
       "SaleCondition_Family      0.003765   0.037417    -0.025515    -0.023873   \n",
       "SaleCondition_Normal      0.044604  -0.004330    -0.143282     0.161642   \n",
       "SaleCondition_Partial    -0.004065  -0.042473     0.323295    -0.151659   \n",
       "\n",
       "                       YearBuilt  YearRemodAdd  ...  SaleType_ConLI  \\\n",
       "MSSubClass              0.033544      0.039944  ...        0.008927   \n",
       "LotFrontage             0.117598      0.082746  ...        0.012674   \n",
       "LotArea                 0.014228      0.013788  ...        0.001076   \n",
       "LotShape               -0.226062     -0.153825  ...       -0.005929   \n",
       "LandContour             0.161622      0.093374  ...        0.018446   \n",
       "...                          ...           ...  ...             ...   \n",
       "SaleCondition_AdjLand  -0.045601     -0.040294  ...       -0.003073   \n",
       "SaleCondition_Alloca   -0.010104     -0.020727  ...       -0.005337   \n",
       "SaleCondition_Family   -0.035785     -0.048056  ...       -0.006909   \n",
       "SaleCondition_Normal   -0.158427     -0.120577  ...       -0.003139   \n",
       "SaleCondition_Partial   0.343895      0.322837  ...       -0.017938   \n",
       "\n",
       "                       SaleType_ConLw  SaleType_New  SaleType_Oth  \\\n",
       "MSSubClass                   0.020199     -0.054913     -0.009086   \n",
       "LotFrontage                 -0.051787      0.126580     -0.023461   \n",
       "LotArea                     -0.015040      0.020039     -0.005722   \n",
       "LotShape                     0.002394     -0.038621      0.001853   \n",
       "LandContour                 -0.031273     -0.002948      0.014278   \n",
       "...                               ...           ...           ...   \n",
       "SaleCondition_AdjLand       -0.003073     -0.015827     -0.002378   \n",
       "SaleCondition_Alloca        -0.005337     -0.027489     -0.004131   \n",
       "SaleCondition_Family        -0.006909     -0.035587     -0.005348   \n",
       "SaleCondition_Normal         0.027414     -0.645698     -0.097031   \n",
       "SaleCondition_Partial       -0.017938      0.986819     -0.013885   \n",
       "\n",
       "                       SaleType_WD  SaleCondition_AdjLand  \\\n",
       "MSSubClass                0.035542               0.035697   \n",
       "LotFrontage              -0.089928              -0.037020   \n",
       "LotArea                  -0.002292              -0.013208   \n",
       "LotShape                  0.021384               0.011443   \n",
       "LandContour              -0.011327               0.016493   \n",
       "...                            ...                    ...   \n",
       "SaleCondition_AdjLand     0.020457               1.000000   \n",
       "SaleCondition_Alloca      0.035530              -0.004772   \n",
       "SaleCondition_Family      0.028599              -0.006177   \n",
       "SaleCondition_Normal      0.634322              -0.112080   \n",
       "SaleCondition_Partial    -0.769559              -0.016038   \n",
       "\n",
       "                       SaleCondition_Alloca  SaleCondition_Family  \\\n",
       "MSSubClass                         0.063823              0.010865   \n",
       "LotFrontage                       -0.018090              0.015818   \n",
       "LotArea                            0.008966             -0.010781   \n",
       "LotShape                           0.036030              0.034095   \n",
       "LandContour                       -0.153658              0.003765   \n",
       "...                                     ...                   ...   \n",
       "SaleCondition_AdjLand             -0.004772             -0.006177   \n",
       "SaleCondition_Alloca               1.000000             -0.010729   \n",
       "SaleCondition_Family              -0.010729              1.000000   \n",
       "SaleCondition_Normal              -0.194663             -0.252006   \n",
       "SaleCondition_Partial             -0.027856             -0.036062   \n",
       "\n",
       "                       SaleCondition_Normal  SaleCondition_Partial  \n",
       "MSSubClass                         0.021282              -0.061665  \n",
       "LotFrontage                       -0.072074               0.124842  \n",
       "LotArea                            0.005711               0.022635  \n",
       "LotShape                          -0.005162              -0.037898  \n",
       "LandContour                        0.044604              -0.004065  \n",
       "...                                     ...                    ...  \n",
       "SaleCondition_AdjLand             -0.112080              -0.016038  \n",
       "SaleCondition_Alloca              -0.194663              -0.027856  \n",
       "SaleCondition_Family              -0.252006              -0.036062  \n",
       "SaleCondition_Normal               1.000000              -0.654323  \n",
       "SaleCondition_Partial             -0.654323               1.000000  \n",
       "\n",
       "[199 rows x 199 columns]"
      ]
     },
     "execution_count": 16,
     "metadata": {},
     "output_type": "execute_result"
    }
   ],
   "source": [
    "correlation_matrix=encoded_df.corr()\n",
    "correlation_matrix"
   ]
  },
  {
   "cell_type": "markdown",
   "id": "eee97a2f",
   "metadata": {
    "papermill": {
     "duration": 0.015226,
     "end_time": "2023-08-29T14:01:13.288592",
     "exception": false,
     "start_time": "2023-08-29T14:01:13.273366",
     "status": "completed"
    },
    "tags": []
   },
   "source": [
    "# PCA for choose the correlation threshold"
   ]
  },
  {
   "cell_type": "code",
   "execution_count": 17,
   "id": "f1872051",
   "metadata": {
    "execution": {
     "iopub.execute_input": "2023-08-29T14:01:13.321876Z",
     "iopub.status.busy": "2023-08-29T14:01:13.321491Z",
     "iopub.status.idle": "2023-08-29T14:01:13.646474Z",
     "shell.execute_reply": "2023-08-29T14:01:13.645571Z"
    },
    "papermill": {
     "duration": 0.344103,
     "end_time": "2023-08-29T14:01:13.648493",
     "exception": false,
     "start_time": "2023-08-29T14:01:13.304390",
     "status": "completed"
    },
    "tags": []
   },
   "outputs": [
    {
     "data": {
      "image/png": "[encoded data removed]",
      "text/plain": [
       "<Figure size 640x480 with 1 Axes>"
      ]
     },
     "metadata": {},
     "output_type": "display_data"
    }
   ],
   "source": [
    "# Perform PCA\n",
    "pca = PCA()\n",
    "pca.fit(correlation_matrix)\n",
    "\n",
    "# Plot explained variance\n",
    "plt.plot(range(1, len(pca.explained_variance_ratio_) + 1), np.cumsum(pca.explained_variance_ratio_))\n",
    "plt.xlabel('Number of Components')\n",
    "plt.ylabel('Explained Variance')\n",
    "plt.show()\n"
   ]
  },
  {
   "cell_type": "markdown",
   "id": "587a2182",
   "metadata": {
    "papermill": {
     "duration": 0.015315,
     "end_time": "2023-08-29T14:01:13.679773",
     "exception": false,
     "start_time": "2023-08-29T14:01:13.664458",
     "status": "completed"
    },
    "tags": []
   },
   "source": [
    "# Find correlated pairs & drop one of each pair"
   ]
  },
  {
   "cell_type": "code",
   "execution_count": 18,
   "id": "c5db7f80",
   "metadata": {
    "execution": {
     "iopub.execute_input": "2023-08-29T14:01:13.713600Z",
     "iopub.status.busy": "2023-08-29T14:01:13.712604Z",
     "iopub.status.idle": "2023-08-29T14:01:14.212807Z",
     "shell.execute_reply": "2023-08-29T14:01:14.211022Z"
    },
    "papermill": {
     "duration": 0.519733,
     "end_time": "2023-08-29T14:01:14.214960",
     "exception": false,
     "start_time": "2023-08-29T14:01:13.695227",
     "status": "completed"
    },
    "tags": []
   },
   "outputs": [
    {
     "name": "stdout",
     "output_type": "stream",
     "text": [
      "Correlated variable pairs:\n",
      "('RoofStyle_Gable', 'RoofStyle_Hip', 0.9334615823692307)\n",
      "('Exterior1st_CBlock', 'Exterior2nd_CBlock', 1.0)\n",
      "('Exterior1st_CemntBd', 'Exterior2nd_CmentBd', 0.9741710841939724)\n",
      "('Exterior1st_MetalSd', 'Exterior2nd_MetalSd', 0.9730651937625319)\n",
      "('Exterior1st_VinylSd', 'Exterior2nd_VinylSd', 0.9775248873036357)\n",
      "('SaleType_New', 'SaleCondition_Partial', 0.9868189596845142)\n"
     ]
    }
   ],
   "source": [
    "# Set the correlation threshold\n",
    "correlation_threshold =0.9\n",
    "\n",
    "# Find correlated variable pairs\n",
    "correlated_pairs = []\n",
    "for i in range(len(correlation_matrix.columns)):\n",
    "    for j in range(i + 1, len(correlation_matrix.columns)):\n",
    "        if abs(correlation_matrix.iloc[i, j]) > correlation_threshold:\n",
    "            correlated_pairs.append((correlation_matrix.columns[i], correlation_matrix.columns[j],abs(correlation_matrix.iloc[i, j])))\n",
    "\n",
    "print(\"Correlated variable pairs:\")\n",
    "for pair in correlated_pairs:\n",
    "    print(pair)"
   ]
  },
  {
   "cell_type": "code",
   "execution_count": 19,
   "id": "41953661",
   "metadata": {
    "execution": {
     "iopub.execute_input": "2023-08-29T14:01:14.248875Z",
     "iopub.status.busy": "2023-08-29T14:01:14.248498Z",
     "iopub.status.idle": "2023-08-29T14:01:14.258833Z",
     "shell.execute_reply": "2023-08-29T14:01:14.257788Z"
    },
    "papermill": {
     "duration": 0.029954,
     "end_time": "2023-08-29T14:01:14.261058",
     "exception": false,
     "start_time": "2023-08-29T14:01:14.231104",
     "status": "completed"
    },
    "tags": []
   },
   "outputs": [],
   "source": [
    "for pair in correlated_pairs:\n",
    "    encoded_df=encoded_df.drop(pair[0],axis=1)"
   ]
  },
  {
   "cell_type": "code",
   "execution_count": 20,
   "id": "7b5966ff",
   "metadata": {
    "execution": {
     "iopub.execute_input": "2023-08-29T14:01:14.294559Z",
     "iopub.status.busy": "2023-08-29T14:01:14.294056Z",
     "iopub.status.idle": "2023-08-29T14:01:14.300639Z",
     "shell.execute_reply": "2023-08-29T14:01:14.299344Z"
    },
    "papermill": {
     "duration": 0.026078,
     "end_time": "2023-08-29T14:01:14.302985",
     "exception": false,
     "start_time": "2023-08-29T14:01:14.276907",
     "status": "completed"
    },
    "tags": []
   },
   "outputs": [
    {
     "data": {
      "text/plain": [
       "(1460, 193)"
      ]
     },
     "execution_count": 20,
     "metadata": {},
     "output_type": "execute_result"
    }
   ],
   "source": [
    "encoded_df.shape"
   ]
  },
  {
   "cell_type": "markdown",
   "id": "04d5c361",
   "metadata": {
    "papermill": {
     "duration": 0.015473,
     "end_time": "2023-08-29T14:01:14.334387",
     "exception": false,
     "start_time": "2023-08-29T14:01:14.318914",
     "status": "completed"
    },
    "tags": []
   },
   "source": [
    "# LassoCV & Lasso for features selection"
   ]
  },
  {
   "cell_type": "code",
   "execution_count": 21,
   "id": "407077a8",
   "metadata": {
    "execution": {
     "iopub.execute_input": "2023-08-29T14:01:14.369607Z",
     "iopub.status.busy": "2023-08-29T14:01:14.368734Z",
     "iopub.status.idle": "2023-08-29T14:01:14.380021Z",
     "shell.execute_reply": "2023-08-29T14:01:14.379157Z"
    },
    "papermill": {
     "duration": 0.032115,
     "end_time": "2023-08-29T14:01:14.382205",
     "exception": false,
     "start_time": "2023-08-29T14:01:14.350090",
     "status": "completed"
    },
    "tags": []
   },
   "outputs": [],
   "source": [
    "# Assuming 'X' is your feature matrix and 'y' is your target variable\n",
    "X=encoded_df.drop('SalePrice',axis=1)\n",
    "y=encoded_df['SalePrice']\n",
    "# Split data into training and testing sets\n",
    "X_train, X_test, y_train, y_test = train_test_split(X, y, test_size=0.2, random_state=42)"
   ]
  },
  {
   "cell_type": "code",
   "execution_count": 22,
   "id": "41f98c2c",
   "metadata": {
    "execution": {
     "iopub.execute_input": "2023-08-29T14:01:14.417530Z",
     "iopub.status.busy": "2023-08-29T14:01:14.417145Z",
     "iopub.status.idle": "2023-08-29T14:01:22.567936Z",
     "shell.execute_reply": "2023-08-29T14:01:22.566655Z"
    },
    "papermill": {
     "duration": 8.172044,
     "end_time": "2023-08-29T14:01:22.570949",
     "exception": false,
     "start_time": "2023-08-29T14:01:14.398905",
     "status": "completed"
    },
    "tags": []
   },
   "outputs": [
    {
     "name": "stdout",
     "output_type": "stream",
     "text": [
      "0.864305368663353 100.0\n"
     ]
    }
   ],
   "source": [
    "alphas = alphas = np.logspace(-4, 2, 200)\n",
    "lasso_cv = LassoCV(alphas=alphas, cv=5)\n",
    "lasso_cv.fit(X_train, y_train)\n",
    "selected_alpha = lasso_cv.alpha_\n",
    "lasso_cv_score = lasso_cv.score(X_test, y_test)\n",
    "print(lasso_cv_score ,selected_alpha )"
   ]
  },
  {
   "cell_type": "code",
   "execution_count": 23,
   "id": "5ee1bd92",
   "metadata": {
    "execution": {
     "iopub.execute_input": "2023-08-29T14:01:22.673130Z",
     "iopub.status.busy": "2023-08-29T14:01:22.672598Z",
     "iopub.status.idle": "2023-08-29T14:01:22.770253Z",
     "shell.execute_reply": "2023-08-29T14:01:22.769104Z"
    },
    "papermill": {
     "duration": 0.157977,
     "end_time": "2023-08-29T14:01:22.773153",
     "exception": false,
     "start_time": "2023-08-29T14:01:22.615176",
     "status": "completed"
    },
    "tags": []
   },
   "outputs": [
    {
     "data": {
      "text/plain": [
       "0.864305368663353"
      ]
     },
     "execution_count": 23,
     "metadata": {},
     "output_type": "execute_result"
    }
   ],
   "source": [
    "# Initialize Lasso model\n",
    "lasso = Lasso(alpha=selected_alpha)  # 'alpha' controls the strength of regularization\n",
    "\n",
    "# Fit the Lasso model on the training data\n",
    "lasso.fit(X_train, y_train)\n",
    "\n",
    "# Get the coefficients\n",
    "coefficients = lasso.coef_\n",
    "\n",
    "# Get selected features (features with non-zero coefficients)\n",
    "selected_features = X.columns[coefficients != 0]\n",
    "\n",
    "# Evaluate the model\n",
    "lasso_score = lasso.score(X_test, y_test)\n",
    "lasso_score"
   ]
  },
  {
   "cell_type": "code",
   "execution_count": 24,
   "id": "0b02422c",
   "metadata": {
    "execution": {
     "iopub.execute_input": "2023-08-29T14:01:22.887685Z",
     "iopub.status.busy": "2023-08-29T14:01:22.887322Z",
     "iopub.status.idle": "2023-08-29T14:01:22.894897Z",
     "shell.execute_reply": "2023-08-29T14:01:22.893700Z"
    },
    "papermill": {
     "duration": 0.056715,
     "end_time": "2023-08-29T14:01:22.897076",
     "exception": false,
     "start_time": "2023-08-29T14:01:22.840361",
     "status": "completed"
    },
    "tags": []
   },
   "outputs": [
    {
     "data": {
      "text/plain": [
       "97"
      ]
     },
     "execution_count": 24,
     "metadata": {},
     "output_type": "execute_result"
    }
   ],
   "source": [
    "len(selected_features)"
   ]
  },
  {
   "cell_type": "markdown",
   "id": "28dd085b",
   "metadata": {
    "papermill": {
     "duration": 0.016968,
     "end_time": "2023-08-29T14:01:22.930709",
     "exception": false,
     "start_time": "2023-08-29T14:01:22.913741",
     "status": "completed"
    },
    "tags": []
   },
   "source": [
    "# Drop no-selected features"
   ]
  },
  {
   "cell_type": "code",
   "execution_count": 25,
   "id": "01baae8d",
   "metadata": {
    "execution": {
     "iopub.execute_input": "2023-08-29T14:01:22.965224Z",
     "iopub.status.busy": "2023-08-29T14:01:22.964842Z",
     "iopub.status.idle": "2023-08-29T14:01:23.037187Z",
     "shell.execute_reply": "2023-08-29T14:01:23.036102Z"
    },
    "papermill": {
     "duration": 0.092717,
     "end_time": "2023-08-29T14:01:23.039752",
     "exception": false,
     "start_time": "2023-08-29T14:01:22.947035",
     "status": "completed"
    },
    "tags": []
   },
   "outputs": [],
   "source": [
    "for col in encoded_df.columns:\n",
    "    if col not in selected_features and col!='SalePrice':\n",
    "        encoded_df=encoded_df.drop(col,axis=1)"
   ]
  },
  {
   "cell_type": "code",
   "execution_count": 26,
   "id": "044f15a1",
   "metadata": {
    "execution": {
     "iopub.execute_input": "2023-08-29T14:01:23.075207Z",
     "iopub.status.busy": "2023-08-29T14:01:23.074454Z",
     "iopub.status.idle": "2023-08-29T14:01:23.081524Z",
     "shell.execute_reply": "2023-08-29T14:01:23.080597Z"
    },
    "papermill": {
     "duration": 0.027571,
     "end_time": "2023-08-29T14:01:23.083624",
     "exception": false,
     "start_time": "2023-08-29T14:01:23.056053",
     "status": "completed"
    },
    "tags": []
   },
   "outputs": [
    {
     "data": {
      "text/plain": [
       "(1460, 98)"
      ]
     },
     "execution_count": 26,
     "metadata": {},
     "output_type": "execute_result"
    }
   ],
   "source": [
    "encoded_df.shape"
   ]
  },
  {
   "cell_type": "code",
   "execution_count": 27,
   "id": "70e5d3eb",
   "metadata": {
    "execution": {
     "iopub.execute_input": "2023-08-29T14:01:23.120920Z",
     "iopub.status.busy": "2023-08-29T14:01:23.120106Z",
     "iopub.status.idle": "2023-08-29T14:01:23.148114Z",
     "shell.execute_reply": "2023-08-29T14:01:23.147009Z"
    },
    "papermill": {
     "duration": 0.049381,
     "end_time": "2023-08-29T14:01:23.150377",
     "exception": false,
     "start_time": "2023-08-29T14:01:23.100996",
     "status": "completed"
    },
    "tags": []
   },
   "outputs": [
    {
     "data": {
      "text/html": [
       "<div>\n",
       "<style scoped>\n",
       "    .dataframe tbody tr th:only-of-type {\n",
       "        vertical-align: middle;\n",
       "    }\n",
       "\n",
       "    .dataframe tbody tr th {\n",
       "        vertical-align: top;\n",
       "    }\n",
       "\n",
       "    .dataframe thead th {\n",
       "        text-align: right;\n",
       "    }\n",
       "</style>\n",
       "<table border=\"1\" class=\"dataframe\">\n",
       "  <thead>\n",
       "    <tr style=\"text-align: right;\">\n",
       "      <th></th>\n",
       "      <th>MSSubClass</th>\n",
       "      <th>LotFrontage</th>\n",
       "      <th>LotArea</th>\n",
       "      <th>LotShape</th>\n",
       "      <th>LandContour</th>\n",
       "      <th>LandSlope</th>\n",
       "      <th>OverallQual</th>\n",
       "      <th>OverallCond</th>\n",
       "      <th>YearBuilt</th>\n",
       "      <th>YearRemodAdd</th>\n",
       "      <th>...</th>\n",
       "      <th>MasVnrType_BrkFace</th>\n",
       "      <th>MasVnrType_None</th>\n",
       "      <th>Foundation_CBlock</th>\n",
       "      <th>Foundation_PConc</th>\n",
       "      <th>GarageType_Attchd</th>\n",
       "      <th>GarageType_BuiltIn</th>\n",
       "      <th>SaleType_WD</th>\n",
       "      <th>SaleCondition_Alloca</th>\n",
       "      <th>SaleCondition_Normal</th>\n",
       "      <th>SaleCondition_Partial</th>\n",
       "    </tr>\n",
       "  </thead>\n",
       "  <tbody>\n",
       "    <tr>\n",
       "      <th>0</th>\n",
       "      <td>5.0</td>\n",
       "      <td>-0.229372</td>\n",
       "      <td>-0.207142</td>\n",
       "      <td>3.0</td>\n",
       "      <td>3.0</td>\n",
       "      <td>0.0</td>\n",
       "      <td>6.0</td>\n",
       "      <td>4.0</td>\n",
       "      <td>1.050994</td>\n",
       "      <td>0.878668</td>\n",
       "      <td>...</td>\n",
       "      <td>1</td>\n",
       "      <td>0</td>\n",
       "      <td>0</td>\n",
       "      <td>1</td>\n",
       "      <td>1</td>\n",
       "      <td>0</td>\n",
       "      <td>1</td>\n",
       "      <td>0</td>\n",
       "      <td>1</td>\n",
       "      <td>0</td>\n",
       "    </tr>\n",
       "    <tr>\n",
       "      <th>1</th>\n",
       "      <td>0.0</td>\n",
       "      <td>0.451936</td>\n",
       "      <td>-0.091886</td>\n",
       "      <td>3.0</td>\n",
       "      <td>3.0</td>\n",
       "      <td>0.0</td>\n",
       "      <td>5.0</td>\n",
       "      <td>7.0</td>\n",
       "      <td>0.156734</td>\n",
       "      <td>-0.429577</td>\n",
       "      <td>...</td>\n",
       "      <td>0</td>\n",
       "      <td>1</td>\n",
       "      <td>1</td>\n",
       "      <td>0</td>\n",
       "      <td>1</td>\n",
       "      <td>0</td>\n",
       "      <td>1</td>\n",
       "      <td>0</td>\n",
       "      <td>1</td>\n",
       "      <td>0</td>\n",
       "    </tr>\n",
       "    <tr>\n",
       "      <th>2</th>\n",
       "      <td>5.0</td>\n",
       "      <td>-0.093110</td>\n",
       "      <td>0.073480</td>\n",
       "      <td>0.0</td>\n",
       "      <td>3.0</td>\n",
       "      <td>0.0</td>\n",
       "      <td>6.0</td>\n",
       "      <td>4.0</td>\n",
       "      <td>0.984752</td>\n",
       "      <td>0.830215</td>\n",
       "      <td>...</td>\n",
       "      <td>1</td>\n",
       "      <td>0</td>\n",
       "      <td>0</td>\n",
       "      <td>1</td>\n",
       "      <td>1</td>\n",
       "      <td>0</td>\n",
       "      <td>1</td>\n",
       "      <td>0</td>\n",
       "      <td>1</td>\n",
       "      <td>0</td>\n",
       "    </tr>\n",
       "    <tr>\n",
       "      <th>3</th>\n",
       "      <td>6.0</td>\n",
       "      <td>-0.456474</td>\n",
       "      <td>-0.096897</td>\n",
       "      <td>0.0</td>\n",
       "      <td>3.0</td>\n",
       "      <td>0.0</td>\n",
       "      <td>6.0</td>\n",
       "      <td>4.0</td>\n",
       "      <td>-1.863632</td>\n",
       "      <td>-0.720298</td>\n",
       "      <td>...</td>\n",
       "      <td>0</td>\n",
       "      <td>1</td>\n",
       "      <td>0</td>\n",
       "      <td>0</td>\n",
       "      <td>0</td>\n",
       "      <td>0</td>\n",
       "      <td>1</td>\n",
       "      <td>0</td>\n",
       "      <td>0</td>\n",
       "      <td>0</td>\n",
       "    </tr>\n",
       "    <tr>\n",
       "      <th>4</th>\n",
       "      <td>5.0</td>\n",
       "      <td>0.633618</td>\n",
       "      <td>0.375148</td>\n",
       "      <td>0.0</td>\n",
       "      <td>3.0</td>\n",
       "      <td>0.0</td>\n",
       "      <td>7.0</td>\n",
       "      <td>4.0</td>\n",
       "      <td>0.951632</td>\n",
       "      <td>0.733308</td>\n",
       "      <td>...</td>\n",
       "      <td>1</td>\n",
       "      <td>0</td>\n",
       "      <td>0</td>\n",
       "      <td>1</td>\n",
       "      <td>1</td>\n",
       "      <td>0</td>\n",
       "      <td>1</td>\n",
       "      <td>0</td>\n",
       "      <td>1</td>\n",
       "      <td>0</td>\n",
       "    </tr>\n",
       "    <tr>\n",
       "      <th>...</th>\n",
       "      <td>...</td>\n",
       "      <td>...</td>\n",
       "      <td>...</td>\n",
       "      <td>...</td>\n",
       "      <td>...</td>\n",
       "      <td>...</td>\n",
       "      <td>...</td>\n",
       "      <td>...</td>\n",
       "      <td>...</td>\n",
       "      <td>...</td>\n",
       "      <td>...</td>\n",
       "      <td>...</td>\n",
       "      <td>...</td>\n",
       "      <td>...</td>\n",
       "      <td>...</td>\n",
       "      <td>...</td>\n",
       "      <td>...</td>\n",
       "      <td>...</td>\n",
       "      <td>...</td>\n",
       "      <td>...</td>\n",
       "      <td>...</td>\n",
       "    </tr>\n",
       "    <tr>\n",
       "      <th>1455</th>\n",
       "      <td>5.0</td>\n",
       "      <td>-0.365633</td>\n",
       "      <td>-0.260560</td>\n",
       "      <td>3.0</td>\n",
       "      <td>3.0</td>\n",
       "      <td>0.0</td>\n",
       "      <td>5.0</td>\n",
       "      <td>4.0</td>\n",
       "      <td>0.918511</td>\n",
       "      <td>0.733308</td>\n",
       "      <td>...</td>\n",
       "      <td>0</td>\n",
       "      <td>1</td>\n",
       "      <td>0</td>\n",
       "      <td>1</td>\n",
       "      <td>1</td>\n",
       "      <td>0</td>\n",
       "      <td>1</td>\n",
       "      <td>0</td>\n",
       "      <td>1</td>\n",
       "      <td>0</td>\n",
       "    </tr>\n",
       "    <tr>\n",
       "      <th>1456</th>\n",
       "      <td>0.0</td>\n",
       "      <td>0.679039</td>\n",
       "      <td>0.266407</td>\n",
       "      <td>3.0</td>\n",
       "      <td>3.0</td>\n",
       "      <td>0.0</td>\n",
       "      <td>5.0</td>\n",
       "      <td>5.0</td>\n",
       "      <td>0.222975</td>\n",
       "      <td>0.151865</td>\n",
       "      <td>...</td>\n",
       "      <td>0</td>\n",
       "      <td>0</td>\n",
       "      <td>1</td>\n",
       "      <td>0</td>\n",
       "      <td>1</td>\n",
       "      <td>0</td>\n",
       "      <td>1</td>\n",
       "      <td>0</td>\n",
       "      <td>1</td>\n",
       "      <td>0</td>\n",
       "    </tr>\n",
       "    <tr>\n",
       "      <th>1457</th>\n",
       "      <td>6.0</td>\n",
       "      <td>-0.183951</td>\n",
       "      <td>-0.147810</td>\n",
       "      <td>3.0</td>\n",
       "      <td>3.0</td>\n",
       "      <td>0.0</td>\n",
       "      <td>6.0</td>\n",
       "      <td>8.0</td>\n",
       "      <td>-1.002492</td>\n",
       "      <td>1.024029</td>\n",
       "      <td>...</td>\n",
       "      <td>0</td>\n",
       "      <td>1</td>\n",
       "      <td>0</td>\n",
       "      <td>0</td>\n",
       "      <td>1</td>\n",
       "      <td>0</td>\n",
       "      <td>1</td>\n",
       "      <td>0</td>\n",
       "      <td>1</td>\n",
       "      <td>0</td>\n",
       "    </tr>\n",
       "    <tr>\n",
       "      <th>1458</th>\n",
       "      <td>0.0</td>\n",
       "      <td>-0.093110</td>\n",
       "      <td>-0.080160</td>\n",
       "      <td>3.0</td>\n",
       "      <td>3.0</td>\n",
       "      <td>0.0</td>\n",
       "      <td>4.0</td>\n",
       "      <td>5.0</td>\n",
       "      <td>-0.704406</td>\n",
       "      <td>0.539493</td>\n",
       "      <td>...</td>\n",
       "      <td>0</td>\n",
       "      <td>1</td>\n",
       "      <td>1</td>\n",
       "      <td>0</td>\n",
       "      <td>1</td>\n",
       "      <td>0</td>\n",
       "      <td>1</td>\n",
       "      <td>0</td>\n",
       "      <td>1</td>\n",
       "      <td>0</td>\n",
       "    </tr>\n",
       "    <tr>\n",
       "      <th>1459</th>\n",
       "      <td>0.0</td>\n",
       "      <td>0.224833</td>\n",
       "      <td>-0.058112</td>\n",
       "      <td>3.0</td>\n",
       "      <td>3.0</td>\n",
       "      <td>0.0</td>\n",
       "      <td>4.0</td>\n",
       "      <td>5.0</td>\n",
       "      <td>-0.207594</td>\n",
       "      <td>-0.962566</td>\n",
       "      <td>...</td>\n",
       "      <td>0</td>\n",
       "      <td>1</td>\n",
       "      <td>1</td>\n",
       "      <td>0</td>\n",
       "      <td>1</td>\n",
       "      <td>0</td>\n",
       "      <td>1</td>\n",
       "      <td>0</td>\n",
       "      <td>1</td>\n",
       "      <td>0</td>\n",
       "    </tr>\n",
       "  </tbody>\n",
       "</table>\n",
       "<p>1460 rows × 98 columns</p>\n",
       "</div>"
      ],
      "text/plain": [
       "      MSSubClass  LotFrontage   LotArea  LotShape  LandContour  LandSlope  \\\n",
       "0            5.0    -0.229372 -0.207142       3.0          3.0        0.0   \n",
       "1            0.0     0.451936 -0.091886       3.0          3.0        0.0   \n",
       "2            5.0    -0.093110  0.073480       0.0          3.0        0.0   \n",
       "3            6.0    -0.456474 -0.096897       0.0          3.0        0.0   \n",
       "4            5.0     0.633618  0.375148       0.0          3.0        0.0   \n",
       "...          ...          ...       ...       ...          ...        ...   \n",
       "1455         5.0    -0.365633 -0.260560       3.0          3.0        0.0   \n",
       "1456         0.0     0.679039  0.266407       3.0          3.0        0.0   \n",
       "1457         6.0    -0.183951 -0.147810       3.0          3.0        0.0   \n",
       "1458         0.0    -0.093110 -0.080160       3.0          3.0        0.0   \n",
       "1459         0.0     0.224833 -0.058112       3.0          3.0        0.0   \n",
       "\n",
       "      OverallQual  OverallCond  YearBuilt  YearRemodAdd  ...  \\\n",
       "0             6.0          4.0   1.050994      0.878668  ...   \n",
       "1             5.0          7.0   0.156734     -0.429577  ...   \n",
       "2             6.0          4.0   0.984752      0.830215  ...   \n",
       "3             6.0          4.0  -1.863632     -0.720298  ...   \n",
       "4             7.0          4.0   0.951632      0.733308  ...   \n",
       "...           ...          ...        ...           ...  ...   \n",
       "1455          5.0          4.0   0.918511      0.733308  ...   \n",
       "1456          5.0          5.0   0.222975      0.151865  ...   \n",
       "1457          6.0          8.0  -1.002492      1.024029  ...   \n",
       "1458          4.0          5.0  -0.704406      0.539493  ...   \n",
       "1459          4.0          5.0  -0.207594     -0.962566  ...   \n",
       "\n",
       "      MasVnrType_BrkFace  MasVnrType_None  Foundation_CBlock  \\\n",
       "0                      1                0                  0   \n",
       "1                      0                1                  1   \n",
       "2                      1                0                  0   \n",
       "3                      0                1                  0   \n",
       "4                      1                0                  0   \n",
       "...                  ...              ...                ...   \n",
       "1455                   0                1                  0   \n",
       "1456                   0                0                  1   \n",
       "1457                   0                1                  0   \n",
       "1458                   0                1                  1   \n",
       "1459                   0                1                  1   \n",
       "\n",
       "      Foundation_PConc  GarageType_Attchd  GarageType_BuiltIn  SaleType_WD  \\\n",
       "0                    1                  1                   0            1   \n",
       "1                    0                  1                   0            1   \n",
       "2                    1                  1                   0            1   \n",
       "3                    0                  0                   0            1   \n",
       "4                    1                  1                   0            1   \n",
       "...                ...                ...                 ...          ...   \n",
       "1455                 1                  1                   0            1   \n",
       "1456                 0                  1                   0            1   \n",
       "1457                 0                  1                   0            1   \n",
       "1458                 0                  1                   0            1   \n",
       "1459                 0                  1                   0            1   \n",
       "\n",
       "      SaleCondition_Alloca  SaleCondition_Normal  SaleCondition_Partial  \n",
       "0                        0                     1                      0  \n",
       "1                        0                     1                      0  \n",
       "2                        0                     1                      0  \n",
       "3                        0                     0                      0  \n",
       "4                        0                     1                      0  \n",
       "...                    ...                   ...                    ...  \n",
       "1455                     0                     1                      0  \n",
       "1456                     0                     1                      0  \n",
       "1457                     0                     1                      0  \n",
       "1458                     0                     1                      0  \n",
       "1459                     0                     1                      0  \n",
       "\n",
       "[1460 rows x 98 columns]"
      ]
     },
     "execution_count": 27,
     "metadata": {},
     "output_type": "execute_result"
    }
   ],
   "source": [
    "encoded_df"
   ]
  },
  {
   "cell_type": "markdown",
   "id": "404e88d5",
   "metadata": {
    "papermill": {
     "duration": 0.017249,
     "end_time": "2023-08-29T14:01:23.185311",
     "exception": false,
     "start_time": "2023-08-29T14:01:23.168062",
     "status": "completed"
    },
    "tags": []
   },
   "source": [
    "# feature_importances with RandomForestClassifier"
   ]
  },
  {
   "cell_type": "code",
   "execution_count": 28,
   "id": "802102d7",
   "metadata": {
    "execution": {
     "iopub.execute_input": "2023-08-29T14:01:23.223676Z",
     "iopub.status.busy": "2023-08-29T14:01:23.222904Z",
     "iopub.status.idle": "2023-08-29T14:01:27.277079Z",
     "shell.execute_reply": "2023-08-29T14:01:27.275838Z"
    },
    "papermill": {
     "duration": 4.076087,
     "end_time": "2023-08-29T14:01:27.279664",
     "exception": false,
     "start_time": "2023-08-29T14:01:23.203577",
     "status": "completed"
    },
    "tags": []
   },
   "outputs": [
    {
     "name": "stdout",
     "output_type": "stream",
     "text": [
      "LotArea: 0.04153793989575776\n",
      "GrLivArea: 0.04127236331514383\n",
      "BsmtUnfSF: 0.03965954926194227\n",
      "GarageArea: 0.039486312160377575\n",
      "LotFrontage: 0.03670534443527925\n",
      "GarageYrBlt: 0.034350965222528\n",
      "YearBuilt: 0.03419078074956296\n",
      "MoSold: 0.033519309044628035\n",
      "BsmtFinSF1: 0.03247512216108541\n",
      "YearRemodAdd: 0.03247162845422078\n"
     ]
    }
   ],
   "source": [
    "X=encoded_df.drop('SalePrice',axis=1)\n",
    "y=encoded_df['SalePrice']\n",
    "# Fit a Random Forest model\n",
    "model = RandomForestClassifier(n_estimators=100, random_state=42)\n",
    "model.fit(X, y)\n",
    "\n",
    "# Get feature importances\n",
    "feature_importances = model.feature_importances_\n",
    "\n",
    "# Créez une liste de tuples (nom de la fonctionnalité, importance)\n",
    "feature_importance_tuples = [(feature_name, importance) for feature_name, importance in zip(X.columns, feature_importances)]\n",
    "\n",
    "# Triez la liste en fonction des importances (décroissant)\n",
    "feature_importance_tuples.sort(key=lambda x: x[1], reverse=True)\n",
    "\n",
    "# Imprimez les noms de fonctionnalités et leurs importances\n",
    "for feature_name, importance in feature_importance_tuples[:10]:\n",
    "    print(f\"{feature_name}: {importance}\")"
   ]
  },
  {
   "cell_type": "code",
   "execution_count": 29,
   "id": "c09e0748",
   "metadata": {
    "execution": {
     "iopub.execute_input": "2023-08-29T14:01:27.317803Z",
     "iopub.status.busy": "2023-08-29T14:01:27.317446Z",
     "iopub.status.idle": "2023-08-29T14:01:27.323354Z",
     "shell.execute_reply": "2023-08-29T14:01:27.322372Z"
    },
    "papermill": {
     "duration": 0.027725,
     "end_time": "2023-08-29T14:01:27.325494",
     "exception": false,
     "start_time": "2023-08-29T14:01:27.297769",
     "status": "completed"
    },
    "tags": []
   },
   "outputs": [],
   "source": [
    "# Sélectionnez les trois fonctionnalités les plus importantes\n",
    "top_feature_names = [feature_name for feature_name, _ in feature_importance_tuples[:3]]"
   ]
  },
  {
   "cell_type": "code",
   "execution_count": 30,
   "id": "65d63b68",
   "metadata": {
    "execution": {
     "iopub.execute_input": "2023-08-29T14:01:27.363551Z",
     "iopub.status.busy": "2023-08-29T14:01:27.363107Z",
     "iopub.status.idle": "2023-08-29T14:01:27.367709Z",
     "shell.execute_reply": "2023-08-29T14:01:27.366857Z"
    },
    "papermill": {
     "duration": 0.025781,
     "end_time": "2023-08-29T14:01:27.369693",
     "exception": false,
     "start_time": "2023-08-29T14:01:27.343912",
     "status": "completed"
    },
    "tags": []
   },
   "outputs": [],
   "source": [
    "top_feature_names.append('SalePrice')"
   ]
  },
  {
   "cell_type": "markdown",
   "id": "2818643b",
   "metadata": {
    "papermill": {
     "duration": 0.017491,
     "end_time": "2023-08-29T14:01:27.405010",
     "exception": false,
     "start_time": "2023-08-29T14:01:27.387519",
     "status": "completed"
    },
    "tags": []
   },
   "source": [
    "# Construction of the first version dataframe with 3 top_features"
   ]
  },
  {
   "cell_type": "code",
   "execution_count": 31,
   "id": "8bc95b45",
   "metadata": {
    "execution": {
     "iopub.execute_input": "2023-08-29T14:01:27.442892Z",
     "iopub.status.busy": "2023-08-29T14:01:27.441854Z",
     "iopub.status.idle": "2023-08-29T14:01:27.448127Z",
     "shell.execute_reply": "2023-08-29T14:01:27.447170Z"
    },
    "papermill": {
     "duration": 0.027552,
     "end_time": "2023-08-29T14:01:27.450381",
     "exception": false,
     "start_time": "2023-08-29T14:01:27.422829",
     "status": "completed"
    },
    "tags": []
   },
   "outputs": [],
   "source": [
    "df_version_1=encoded_df[top_feature_names]"
   ]
  },
  {
   "cell_type": "code",
   "execution_count": 32,
   "id": "a1bd5add",
   "metadata": {
    "execution": {
     "iopub.execute_input": "2023-08-29T14:01:27.487942Z",
     "iopub.status.busy": "2023-08-29T14:01:27.487576Z",
     "iopub.status.idle": "2023-08-29T14:01:27.492110Z",
     "shell.execute_reply": "2023-08-29T14:01:27.490953Z"
    },
    "papermill": {
     "duration": 0.026223,
     "end_time": "2023-08-29T14:01:27.494376",
     "exception": false,
     "start_time": "2023-08-29T14:01:27.468153",
     "status": "completed"
    },
    "tags": []
   },
   "outputs": [],
   "source": [
    "#df_version_1=df_version_1.drop('TotalBsmtSF',axis=1)"
   ]
  },
  {
   "cell_type": "code",
   "execution_count": 33,
   "id": "66781f8b",
   "metadata": {
    "execution": {
     "iopub.execute_input": "2023-08-29T14:01:27.530920Z",
     "iopub.status.busy": "2023-08-29T14:01:27.530542Z",
     "iopub.status.idle": "2023-08-29T14:01:27.536184Z",
     "shell.execute_reply": "2023-08-29T14:01:27.535028Z"
    },
    "papermill": {
     "duration": 0.026653,
     "end_time": "2023-08-29T14:01:27.538431",
     "exception": false,
     "start_time": "2023-08-29T14:01:27.511778",
     "status": "completed"
    },
    "tags": []
   },
   "outputs": [],
   "source": [
    "corr_matrix_1=df_version_1.corr()"
   ]
  },
  {
   "cell_type": "code",
   "execution_count": 34,
   "id": "e80095fa",
   "metadata": {
    "execution": {
     "iopub.execute_input": "2023-08-29T14:01:27.575248Z",
     "iopub.status.busy": "2023-08-29T14:01:27.574876Z",
     "iopub.status.idle": "2023-08-29T14:01:27.587052Z",
     "shell.execute_reply": "2023-08-29T14:01:27.585735Z"
    },
    "papermill": {
     "duration": 0.033013,
     "end_time": "2023-08-29T14:01:27.589242",
     "exception": false,
     "start_time": "2023-08-29T14:01:27.556229",
     "status": "completed"
    },
    "tags": []
   },
   "outputs": [
    {
     "data": {
      "text/html": [
       "<div>\n",
       "<style scoped>\n",
       "    .dataframe tbody tr th:only-of-type {\n",
       "        vertical-align: middle;\n",
       "    }\n",
       "\n",
       "    .dataframe tbody tr th {\n",
       "        vertical-align: top;\n",
       "    }\n",
       "\n",
       "    .dataframe thead th {\n",
       "        text-align: right;\n",
       "    }\n",
       "</style>\n",
       "<table border=\"1\" class=\"dataframe\">\n",
       "  <thead>\n",
       "    <tr style=\"text-align: right;\">\n",
       "      <th></th>\n",
       "      <th>LotArea</th>\n",
       "      <th>GrLivArea</th>\n",
       "      <th>BsmtUnfSF</th>\n",
       "      <th>SalePrice</th>\n",
       "    </tr>\n",
       "  </thead>\n",
       "  <tbody>\n",
       "    <tr>\n",
       "      <th>LotArea</th>\n",
       "      <td>1.000000</td>\n",
       "      <td>0.263116</td>\n",
       "      <td>-0.002618</td>\n",
       "      <td>0.263843</td>\n",
       "    </tr>\n",
       "    <tr>\n",
       "      <th>GrLivArea</th>\n",
       "      <td>0.263116</td>\n",
       "      <td>1.000000</td>\n",
       "      <td>0.240257</td>\n",
       "      <td>0.708624</td>\n",
       "    </tr>\n",
       "    <tr>\n",
       "      <th>BsmtUnfSF</th>\n",
       "      <td>-0.002618</td>\n",
       "      <td>0.240257</td>\n",
       "      <td>1.000000</td>\n",
       "      <td>0.214479</td>\n",
       "    </tr>\n",
       "    <tr>\n",
       "      <th>SalePrice</th>\n",
       "      <td>0.263843</td>\n",
       "      <td>0.708624</td>\n",
       "      <td>0.214479</td>\n",
       "      <td>1.000000</td>\n",
       "    </tr>\n",
       "  </tbody>\n",
       "</table>\n",
       "</div>"
      ],
      "text/plain": [
       "            LotArea  GrLivArea  BsmtUnfSF  SalePrice\n",
       "LotArea    1.000000   0.263116  -0.002618   0.263843\n",
       "GrLivArea  0.263116   1.000000   0.240257   0.708624\n",
       "BsmtUnfSF -0.002618   0.240257   1.000000   0.214479\n",
       "SalePrice  0.263843   0.708624   0.214479   1.000000"
      ]
     },
     "execution_count": 34,
     "metadata": {},
     "output_type": "execute_result"
    }
   ],
   "source": [
    "corr_matrix_1"
   ]
  },
  {
   "cell_type": "code",
   "execution_count": 35,
   "id": "b6847321",
   "metadata": {
    "execution": {
     "iopub.execute_input": "2023-08-29T14:01:27.629658Z",
     "iopub.status.busy": "2023-08-29T14:01:27.629256Z",
     "iopub.status.idle": "2023-08-29T14:01:27.634249Z",
     "shell.execute_reply": "2023-08-29T14:01:27.633075Z"
    },
    "papermill": {
     "duration": 0.02762,
     "end_time": "2023-08-29T14:01:27.636466",
     "exception": false,
     "start_time": "2023-08-29T14:01:27.608846",
     "status": "completed"
    },
    "tags": []
   },
   "outputs": [],
   "source": [
    "# Supprimez les trois fonctionnalités les plus importantes de feature_importance_tuples\n",
    "feature_importance_tuples = [item for item in feature_importance_tuples if item[0] not in top_feature_names]"
   ]
  },
  {
   "cell_type": "code",
   "execution_count": 36,
   "id": "0ad842bf",
   "metadata": {
    "execution": {
     "iopub.execute_input": "2023-08-29T14:01:27.673417Z",
     "iopub.status.busy": "2023-08-29T14:01:27.673039Z",
     "iopub.status.idle": "2023-08-29T14:01:27.679595Z",
     "shell.execute_reply": "2023-08-29T14:01:27.678550Z"
    },
    "papermill": {
     "duration": 0.027505,
     "end_time": "2023-08-29T14:01:27.681653",
     "exception": false,
     "start_time": "2023-08-29T14:01:27.654148",
     "status": "completed"
    },
    "tags": []
   },
   "outputs": [
    {
     "data": {
      "text/plain": [
       "[('GarageArea', 0.039486312160377575),\n",
       " ('LotFrontage', 0.03670534443527925),\n",
       " ('GarageYrBlt', 0.034350965222528),\n",
       " ('YearBuilt', 0.03419078074956296),\n",
       " ('MoSold', 0.033519309044628035),\n",
       " ('BsmtFinSF1', 0.03247512216108541),\n",
       " ('YearRemodAdd', 0.03247162845422078)]"
      ]
     },
     "execution_count": 36,
     "metadata": {},
     "output_type": "execute_result"
    }
   ],
   "source": [
    "feature_importance_tuples[:7]"
   ]
  },
  {
   "cell_type": "markdown",
   "id": "cc764afc",
   "metadata": {
    "papermill": {
     "duration": 0.019837,
     "end_time": "2023-08-29T14:01:27.720340",
     "exception": false,
     "start_time": "2023-08-29T14:01:27.700503",
     "status": "completed"
    },
    "tags": []
   },
   "source": [
    "# Build the first regression model (LinearRegression) & evaluate it "
   ]
  },
  {
   "cell_type": "code",
   "execution_count": 37,
   "id": "aaf77ba6",
   "metadata": {
    "execution": {
     "iopub.execute_input": "2023-08-29T14:01:27.759628Z",
     "iopub.status.busy": "2023-08-29T14:01:27.759254Z",
     "iopub.status.idle": "2023-08-29T14:01:27.782894Z",
     "shell.execute_reply": "2023-08-29T14:01:27.781703Z"
    },
    "papermill": {
     "duration": 0.045768,
     "end_time": "2023-08-29T14:01:27.785159",
     "exception": false,
     "start_time": "2023-08-29T14:01:27.739391",
     "status": "completed"
    },
    "tags": []
   },
   "outputs": [
    {
     "name": "stdout",
     "output_type": "stream",
     "text": [
      "r2_score train: 0.4871229956075116\n",
      "r2_score test: 0.5520826103621692\n"
     ]
    }
   ],
   "source": [
    "# Séparer les données en fonctionnalités (X) et cible (y)\n",
    "X = df_version_1.drop('SalePrice', axis=1)\n",
    "y = df_version_1['SalePrice']\n",
    "\n",
    "# Diviser les données en ensembles d'entraînement et de test\n",
    "X_train, X_test, y_train, y_test = train_test_split(X, y, test_size=0.3, random_state=42)\n",
    "\n",
    "# Créer un modèle de régression linéaire\n",
    "model_reg = LinearRegression()\n",
    "\n",
    "# Entraîner le modèle sur l'ensemble d'entraînement\n",
    "model_reg.fit(X_train, y_train)\n",
    "\n",
    "# Faire des prédictions sur l'ensemble de test\n",
    "y_pred_train= model_reg.predict(X_train)\n",
    "y_pred = model_reg.predict(X_test)\n",
    "# Calculer la métrique d'évaluation (par exemple, l'erreur quadratique moyenne)\n",
    "r2_train=r2_score(y_train, y_pred_train)\n",
    "r2_test = r2_score(y_test, y_pred)\n",
    "print(f\"r2_score train: {r2_train}\")\n",
    "print(f\"r2_score test: {r2_test}\")"
   ]
  },
  {
   "cell_type": "markdown",
   "id": "33b1fbda",
   "metadata": {
    "papermill": {
     "duration": 0.018992,
     "end_time": "2023-08-29T14:01:27.822054",
     "exception": false,
     "start_time": "2023-08-29T14:01:27.803062",
     "status": "completed"
    },
    "tags": []
   },
   "source": [
    "# Try other model SVR \n",
    "# RandomizedSearchCV for find optimal values of SVR params"
   ]
  },
  {
   "cell_type": "code",
   "execution_count": 38,
   "id": "d826825c",
   "metadata": {
    "execution": {
     "iopub.execute_input": "2023-08-29T14:01:27.860341Z",
     "iopub.status.busy": "2023-08-29T14:01:27.859378Z",
     "iopub.status.idle": "2023-08-29T14:01:29.558315Z",
     "shell.execute_reply": "2023-08-29T14:01:29.557027Z"
    },
    "papermill": {
     "duration": 1.721047,
     "end_time": "2023-08-29T14:01:29.560965",
     "exception": false,
     "start_time": "2023-08-29T14:01:27.839918",
     "status": "completed"
    },
    "tags": []
   },
   "outputs": [
    {
     "name": "stdout",
     "output_type": "stream",
     "text": [
      "Best Parameters: {'C': 199.35271177567722, 'epsilon': 0.012309401995353929}\n"
     ]
    }
   ],
   "source": [
    "from sklearn.model_selection import RandomizedSearchCV\n",
    "from scipy.stats import expon, reciprocal\n",
    "\n",
    "param_grid = {\n",
    "    'C': expon(scale=100),  # Distribué exponentiellement avec une échelle de 100\n",
    "    'epsilon': reciprocal(0.01, 1)  # Distribué de manière réciproque entre 0.01 et 1\n",
    "}\n",
    "\n",
    "Random_search = RandomizedSearchCV(SVR(kernel='linear'), param_grid, cv=5)\n",
    "Random_search.fit(X_train, y_train)\n",
    "\n",
    "best_params = Random_search.best_params_\n",
    "print(f\"Best Parameters: {best_params}\")\n"
   ]
  },
  {
   "cell_type": "code",
   "execution_count": 39,
   "id": "b0033e6b",
   "metadata": {
    "execution": {
     "iopub.execute_input": "2023-08-29T14:01:29.601273Z",
     "iopub.status.busy": "2023-08-29T14:01:29.600825Z",
     "iopub.status.idle": "2023-08-29T14:01:29.607394Z",
     "shell.execute_reply": "2023-08-29T14:01:29.606038Z"
    },
    "papermill": {
     "duration": 0.031111,
     "end_time": "2023-08-29T14:01:29.611365",
     "exception": false,
     "start_time": "2023-08-29T14:01:29.580254",
     "status": "completed"
    },
    "tags": []
   },
   "outputs": [],
   "source": [
    "c=best_params['C']\n",
    "epsilon=best_params['epsilon']"
   ]
  },
  {
   "cell_type": "markdown",
   "id": "c6c4379e",
   "metadata": {
    "papermill": {
     "duration": 0.01912,
     "end_time": "2023-08-29T14:01:29.650729",
     "exception": false,
     "start_time": "2023-08-29T14:01:29.631609",
     "status": "completed"
    },
    "tags": []
   },
   "source": [
    "# Train & test & evaluate SVR"
   ]
  },
  {
   "cell_type": "code",
   "execution_count": 40,
   "id": "4e839db1",
   "metadata": {
    "execution": {
     "iopub.execute_input": "2023-08-29T14:01:29.693115Z",
     "iopub.status.busy": "2023-08-29T14:01:29.692621Z",
     "iopub.status.idle": "2023-08-29T14:01:29.829932Z",
     "shell.execute_reply": "2023-08-29T14:01:29.828241Z"
    },
    "papermill": {
     "duration": 0.160811,
     "end_time": "2023-08-29T14:01:29.832519",
     "exception": false,
     "start_time": "2023-08-29T14:01:29.671708",
     "status": "completed"
    },
    "tags": []
   },
   "outputs": [
    {
     "name": "stdout",
     "output_type": "stream",
     "text": [
      "r2_score train: 0.459170875026055\n",
      "r2_score test: 0.4852829211802214\n"
     ]
    }
   ],
   "source": [
    "model = SVR(kernel='linear', C=c, epsilon=epsilon)\n",
    "model.fit(X_train, y_train)\n",
    "\n",
    "# Faire des prédictions sur l'ensemble de test\n",
    "y_pred_train= model.predict(X_train)\n",
    "y_pred = model.predict(X_test)\n",
    "# Calculer la métrique d'évaluation (par exemple, l'erreur quadratique moyenne)\n",
    "r2_train=r2_score(y_train, y_pred_train)\n",
    "r2_test = r2_score(y_test, y_pred)\n",
    "print(f\"r2_score train: {r2_train}\")\n",
    "print(f\"r2_score test: {r2_test}\")"
   ]
  },
  {
   "cell_type": "markdown",
   "id": "b6a8b227",
   "metadata": {
    "papermill": {
     "duration": 0.017815,
     "end_time": "2023-08-29T14:01:29.868746",
     "exception": false,
     "start_time": "2023-08-29T14:01:29.850931",
     "status": "completed"
    },
    "tags": []
   },
   "source": [
    "# RandomForestRegressor an other model\n",
    "# OOB for the best value of n_estimators"
   ]
  },
  {
   "cell_type": "code",
   "execution_count": 41,
   "id": "a57d86da",
   "metadata": {
    "execution": {
     "iopub.execute_input": "2023-08-29T14:01:29.908138Z",
     "iopub.status.busy": "2023-08-29T14:01:29.907715Z",
     "iopub.status.idle": "2023-08-29T14:02:11.224706Z",
     "shell.execute_reply": "2023-08-29T14:02:11.223506Z"
    },
    "papermill": {
     "duration": 41.360036,
     "end_time": "2023-08-29T14:02:11.247054",
     "exception": false,
     "start_time": "2023-08-29T14:01:29.887018",
     "status": "completed"
    },
    "tags": []
   },
   "outputs": [
    {
     "name": "stderr",
     "output_type": "stream",
     "text": [
      "/opt/conda/lib/python3.10/site-packages/sklearn/ensemble/_forest.py:583: UserWarning: Some inputs do not have OOB scores. This probably means too few trees were used to compute any reliable OOB estimates.\n",
      "  warn(\n"
     ]
    },
    {
     "name": "stdout",
     "output_type": "stream",
     "text": [
      "Best n_estimators: 710\n"
     ]
    }
   ],
   "source": [
    "estimators_range = np.arange(10, 1000, 50)  # Adjust the step size according to your preference\n",
    "oob_scores = []\n",
    "\n",
    "for n_estimators in estimators_range:\n",
    "    model = RandomForestRegressor(n_estimators=n_estimators, oob_score=True, random_state=42)\n",
    "    model.fit(X_train, y_train)\n",
    "    oob_scores.append(model.oob_score_)\n",
    "\n",
    "best_n_estimators = estimators_range[np.argmax(oob_scores)]\n",
    "print(f\"Best n_estimators: {best_n_estimators}\")"
   ]
  },
  {
   "cell_type": "markdown",
   "id": "e3584704",
   "metadata": {
    "papermill": {
     "duration": 0.022959,
     "end_time": "2023-08-29T14:02:11.289515",
     "exception": false,
     "start_time": "2023-08-29T14:02:11.266556",
     "status": "completed"
    },
    "tags": []
   },
   "source": [
    " # Cross-validationn "
   ]
  },
  {
   "cell_type": "code",
   "execution_count": 42,
   "id": "e97f176e",
   "metadata": {
    "execution": {
     "iopub.execute_input": "2023-08-29T14:02:11.333419Z",
     "iopub.status.busy": "2023-08-29T14:02:11.332991Z",
     "iopub.status.idle": "2023-08-29T14:02:30.548456Z",
     "shell.execute_reply": "2023-08-29T14:02:30.547141Z"
    },
    "papermill": {
     "duration": 19.23884,
     "end_time": "2023-08-29T14:02:30.550723",
     "exception": false,
     "start_time": "2023-08-29T14:02:11.311883",
     "status": "completed"
    },
    "tags": []
   },
   "outputs": [
    {
     "name": "stdout",
     "output_type": "stream",
     "text": [
      "R² Scores: [0.61898255 0.48871509 0.6066191  0.50000335 0.48923935]\n",
      "Mean R²: 0.5407118889862433\n",
      "r2_score train: 0.9312078882088906\n",
      "r2_score test: 0.6411399989414704\n"
     ]
    }
   ],
   "source": [
    "model = RandomForestRegressor(n_estimators=best_n_estimators, random_state=42)\n",
    "# Perform 5-fold cross-validation\n",
    "scores = cross_val_score(model, X, y, cv=5, scoring='r2')  # Use 'neg_mean_squared_error' for Mean Squared Error\n",
    "# Print the R² scores for each fold\n",
    "print(\"R² Scores:\", scores)\n",
    "print(\"Mean R²:\", scores.mean())\n",
    "# Entraîner le modèle sur l'ensemble d'entraînement\n",
    "\n",
    "model.fit(X_train, y_train)\n",
    "\n",
    "y_pred_train= model.predict(X_train)\n",
    "# Faire des prédictions sur l'ensemble de test\n",
    "y_pred = model.predict(X_test)\n",
    "\n",
    "r2_train=r2_score(y_train, y_pred_train)\n",
    "# Calculer la métrique d'évaluation (par exemple, l'erreur quadratique moyenne)\n",
    "r2_test = r2_score(y_test, y_pred)\n",
    "print(f\"r2_score train: {r2_train}\")\n",
    "print(f\"r2_score test: {r2_test}\")"
   ]
  },
  {
   "cell_type": "markdown",
   "id": "7d716ab3",
   "metadata": {
    "papermill": {
     "duration": 0.01826,
     "end_time": "2023-08-29T14:02:30.588098",
     "exception": false,
     "start_time": "2023-08-29T14:02:30.569838",
     "status": "completed"
    },
    "tags": []
   },
   "source": [
    "# Add features from top_features to deal with overfitting "
   ]
  },
  {
   "cell_type": "code",
   "execution_count": 43,
   "id": "2d13b096",
   "metadata": {
    "execution": {
     "iopub.execute_input": "2023-08-29T14:02:30.630203Z",
     "iopub.status.busy": "2023-08-29T14:02:30.629851Z",
     "iopub.status.idle": "2023-08-29T14:02:30.636318Z",
     "shell.execute_reply": "2023-08-29T14:02:30.635546Z"
    },
    "papermill": {
     "duration": 0.029469,
     "end_time": "2023-08-29T14:02:30.638208",
     "exception": false,
     "start_time": "2023-08-29T14:02:30.608739",
     "status": "completed"
    },
    "tags": []
   },
   "outputs": [
    {
     "data": {
      "text/plain": [
       "[('GarageArea', 0.039486312160377575),\n",
       " ('LotFrontage', 0.03670534443527925),\n",
       " ('GarageYrBlt', 0.034350965222528),\n",
       " ('YearBuilt', 0.03419078074956296),\n",
       " ('MoSold', 0.033519309044628035),\n",
       " ('BsmtFinSF1', 0.03247512216108541),\n",
       " ('YearRemodAdd', 0.03247162845422078),\n",
       " ('OpenPorchSF', 0.028002645475980522),\n",
       " ('WoodDeckSF', 0.027276465171318712),\n",
       " ('YrSold', 0.024239034161078598),\n",
       " ('TotRmsAbvGrd', 0.023378499436048517),\n",
       " ('MasVnrArea', 0.02261376342030104),\n",
       " ('2ndFlrSF', 0.021930494822250683),\n",
       " ('OverallQual', 0.019885411543179764),\n",
       " ('BsmtFinType1', 0.018150497268871694),\n",
       " ('OverallCond', 0.017325130935095065)]"
      ]
     },
     "execution_count": 43,
     "metadata": {},
     "output_type": "execute_result"
    }
   ],
   "source": [
    "feature_importance_tuples[:16]"
   ]
  },
  {
   "cell_type": "code",
   "execution_count": 44,
   "id": "73ecb0e3",
   "metadata": {
    "execution": {
     "iopub.execute_input": "2023-08-29T14:02:30.676799Z",
     "iopub.status.busy": "2023-08-29T14:02:30.676415Z",
     "iopub.status.idle": "2023-08-29T14:02:30.681241Z",
     "shell.execute_reply": "2023-08-29T14:02:30.680236Z"
    },
    "papermill": {
     "duration": 0.026601,
     "end_time": "2023-08-29T14:02:30.683396",
     "exception": false,
     "start_time": "2023-08-29T14:02:30.656795",
     "status": "completed"
    },
    "tags": []
   },
   "outputs": [],
   "source": [
    "# Sélectionnez les trois fonctionnalités les plus importantes\n",
    "top_feature_names_2 = [feature_name for feature_name, _ in feature_importance_tuples[:16]]"
   ]
  },
  {
   "cell_type": "code",
   "execution_count": 45,
   "id": "df92af40",
   "metadata": {
    "execution": {
     "iopub.execute_input": "2023-08-29T14:02:30.723478Z",
     "iopub.status.busy": "2023-08-29T14:02:30.723094Z",
     "iopub.status.idle": "2023-08-29T14:02:30.729081Z",
     "shell.execute_reply": "2023-08-29T14:02:30.728326Z"
    },
    "papermill": {
     "duration": 0.028721,
     "end_time": "2023-08-29T14:02:30.730979",
     "exception": false,
     "start_time": "2023-08-29T14:02:30.702258",
     "status": "completed"
    },
    "tags": []
   },
   "outputs": [
    {
     "data": {
      "text/plain": [
       "['GarageArea',\n",
       " 'LotFrontage',\n",
       " 'GarageYrBlt',\n",
       " 'YearBuilt',\n",
       " 'MoSold',\n",
       " 'BsmtFinSF1',\n",
       " 'YearRemodAdd',\n",
       " 'OpenPorchSF',\n",
       " 'WoodDeckSF',\n",
       " 'YrSold',\n",
       " 'TotRmsAbvGrd',\n",
       " 'MasVnrArea',\n",
       " '2ndFlrSF',\n",
       " 'OverallQual',\n",
       " 'BsmtFinType1',\n",
       " 'OverallCond']"
      ]
     },
     "execution_count": 45,
     "metadata": {},
     "output_type": "execute_result"
    }
   ],
   "source": [
    "top_feature_names_2"
   ]
  },
  {
   "cell_type": "code",
   "execution_count": 46,
   "id": "5c4ec73f",
   "metadata": {
    "execution": {
     "iopub.execute_input": "2023-08-29T14:02:30.770529Z",
     "iopub.status.busy": "2023-08-29T14:02:30.770134Z",
     "iopub.status.idle": "2023-08-29T14:02:30.776622Z",
     "shell.execute_reply": "2023-08-29T14:02:30.775689Z"
    },
    "papermill": {
     "duration": 0.028793,
     "end_time": "2023-08-29T14:02:30.778702",
     "exception": false,
     "start_time": "2023-08-29T14:02:30.749909",
     "status": "completed"
    },
    "tags": []
   },
   "outputs": [],
   "source": [
    "df_version_2=pd.concat([df_version_1,encoded_df[top_feature_names_2]],axis=1)"
   ]
  },
  {
   "cell_type": "code",
   "execution_count": 47,
   "id": "35bd01ad",
   "metadata": {
    "execution": {
     "iopub.execute_input": "2023-08-29T14:02:30.818819Z",
     "iopub.status.busy": "2023-08-29T14:02:30.818453Z",
     "iopub.status.idle": "2023-08-29T14:02:30.850039Z",
     "shell.execute_reply": "2023-08-29T14:02:30.848855Z"
    },
    "papermill": {
     "duration": 0.054402,
     "end_time": "2023-08-29T14:02:30.852206",
     "exception": false,
     "start_time": "2023-08-29T14:02:30.797804",
     "status": "completed"
    },
    "tags": []
   },
   "outputs": [
    {
     "data": {
      "text/html": [
       "<div>\n",
       "<style scoped>\n",
       "    .dataframe tbody tr th:only-of-type {\n",
       "        vertical-align: middle;\n",
       "    }\n",
       "\n",
       "    .dataframe tbody tr th {\n",
       "        vertical-align: top;\n",
       "    }\n",
       "\n",
       "    .dataframe thead th {\n",
       "        text-align: right;\n",
       "    }\n",
       "</style>\n",
       "<table border=\"1\" class=\"dataframe\">\n",
       "  <thead>\n",
       "    <tr style=\"text-align: right;\">\n",
       "      <th></th>\n",
       "      <th>LotArea</th>\n",
       "      <th>GrLivArea</th>\n",
       "      <th>BsmtUnfSF</th>\n",
       "      <th>SalePrice</th>\n",
       "      <th>GarageArea</th>\n",
       "      <th>LotFrontage</th>\n",
       "      <th>GarageYrBlt</th>\n",
       "      <th>YearBuilt</th>\n",
       "      <th>MoSold</th>\n",
       "      <th>BsmtFinSF1</th>\n",
       "      <th>YearRemodAdd</th>\n",
       "      <th>OpenPorchSF</th>\n",
       "      <th>WoodDeckSF</th>\n",
       "      <th>YrSold</th>\n",
       "      <th>TotRmsAbvGrd</th>\n",
       "      <th>MasVnrArea</th>\n",
       "      <th>2ndFlrSF</th>\n",
       "      <th>OverallQual</th>\n",
       "      <th>BsmtFinType1</th>\n",
       "      <th>OverallCond</th>\n",
       "    </tr>\n",
       "  </thead>\n",
       "  <tbody>\n",
       "    <tr>\n",
       "      <th>0</th>\n",
       "      <td>-0.207142</td>\n",
       "      <td>0.370333</td>\n",
       "      <td>-0.944591</td>\n",
       "      <td>208500.0</td>\n",
       "      <td>0.351000</td>\n",
       "      <td>-0.229372</td>\n",
       "      <td>1.021157</td>\n",
       "      <td>1.050994</td>\n",
       "      <td>-1.599111</td>\n",
       "      <td>0.575425</td>\n",
       "      <td>0.878668</td>\n",
       "      <td>0.216503</td>\n",
       "      <td>-0.752176</td>\n",
       "      <td>0.138777</td>\n",
       "      <td>0.912210</td>\n",
       "      <td>0.511418</td>\n",
       "      <td>1.161852</td>\n",
       "      <td>6.0</td>\n",
       "      <td>2.0</td>\n",
       "      <td>4.0</td>\n",
       "    </tr>\n",
       "    <tr>\n",
       "      <th>1</th>\n",
       "      <td>-0.091886</td>\n",
       "      <td>-0.482512</td>\n",
       "      <td>-0.641228</td>\n",
       "      <td>181500.0</td>\n",
       "      <td>-0.060731</td>\n",
       "      <td>0.451936</td>\n",
       "      <td>-0.104483</td>\n",
       "      <td>0.156734</td>\n",
       "      <td>-0.489110</td>\n",
       "      <td>1.171992</td>\n",
       "      <td>-0.429577</td>\n",
       "      <td>-0.704483</td>\n",
       "      <td>1.626195</td>\n",
       "      <td>-0.614439</td>\n",
       "      <td>-0.318683</td>\n",
       "      <td>-0.574410</td>\n",
       "      <td>-0.795163</td>\n",
       "      <td>5.0</td>\n",
       "      <td>0.0</td>\n",
       "      <td>7.0</td>\n",
       "    </tr>\n",
       "    <tr>\n",
       "      <th>2</th>\n",
       "      <td>0.073480</td>\n",
       "      <td>0.515013</td>\n",
       "      <td>-0.301643</td>\n",
       "      <td>223500.0</td>\n",
       "      <td>0.631726</td>\n",
       "      <td>-0.093110</td>\n",
       "      <td>0.937776</td>\n",
       "      <td>0.984752</td>\n",
       "      <td>0.990891</td>\n",
       "      <td>0.092907</td>\n",
       "      <td>0.830215</td>\n",
       "      <td>-0.070361</td>\n",
       "      <td>-0.752176</td>\n",
       "      <td>0.138777</td>\n",
       "      <td>-0.318683</td>\n",
       "      <td>0.323060</td>\n",
       "      <td>1.189351</td>\n",
       "      <td>6.0</td>\n",
       "      <td>2.0</td>\n",
       "      <td>4.0</td>\n",
       "    </tr>\n",
       "    <tr>\n",
       "      <th>3</th>\n",
       "      <td>-0.096897</td>\n",
       "      <td>0.383659</td>\n",
       "      <td>-0.061670</td>\n",
       "      <td>140000.0</td>\n",
       "      <td>0.790804</td>\n",
       "      <td>-0.456474</td>\n",
       "      <td>0.812705</td>\n",
       "      <td>-1.863632</td>\n",
       "      <td>-1.599111</td>\n",
       "      <td>-0.499274</td>\n",
       "      <td>-0.720298</td>\n",
       "      <td>-0.176048</td>\n",
       "      <td>-0.752176</td>\n",
       "      <td>-1.367655</td>\n",
       "      <td>0.296763</td>\n",
       "      <td>-0.574410</td>\n",
       "      <td>0.937276</td>\n",
       "      <td>6.0</td>\n",
       "      <td>0.0</td>\n",
       "      <td>4.0</td>\n",
       "    </tr>\n",
       "    <tr>\n",
       "      <th>4</th>\n",
       "      <td>0.375148</td>\n",
       "      <td>1.299326</td>\n",
       "      <td>-0.174865</td>\n",
       "      <td>250000.0</td>\n",
       "      <td>1.698485</td>\n",
       "      <td>0.633618</td>\n",
       "      <td>0.896086</td>\n",
       "      <td>0.951632</td>\n",
       "      <td>2.100892</td>\n",
       "      <td>0.463568</td>\n",
       "      <td>0.733308</td>\n",
       "      <td>0.563760</td>\n",
       "      <td>0.780197</td>\n",
       "      <td>0.138777</td>\n",
       "      <td>1.527656</td>\n",
       "      <td>1.364570</td>\n",
       "      <td>1.617877</td>\n",
       "      <td>7.0</td>\n",
       "      <td>2.0</td>\n",
       "      <td>4.0</td>\n",
       "    </tr>\n",
       "    <tr>\n",
       "      <th>...</th>\n",
       "      <td>...</td>\n",
       "      <td>...</td>\n",
       "      <td>...</td>\n",
       "      <td>...</td>\n",
       "      <td>...</td>\n",
       "      <td>...</td>\n",
       "      <td>...</td>\n",
       "      <td>...</td>\n",
       "      <td>...</td>\n",
       "      <td>...</td>\n",
       "      <td>...</td>\n",
       "      <td>...</td>\n",
       "      <td>...</td>\n",
       "      <td>...</td>\n",
       "      <td>...</td>\n",
       "      <td>...</td>\n",
       "      <td>...</td>\n",
       "      <td>...</td>\n",
       "      <td>...</td>\n",
       "      <td>...</td>\n",
       "    </tr>\n",
       "    <tr>\n",
       "      <th>1455</th>\n",
       "      <td>-0.260560</td>\n",
       "      <td>0.250402</td>\n",
       "      <td>0.873321</td>\n",
       "      <td>175000.0</td>\n",
       "      <td>-0.060731</td>\n",
       "      <td>-0.365633</td>\n",
       "      <td>0.854395</td>\n",
       "      <td>0.918511</td>\n",
       "      <td>0.620891</td>\n",
       "      <td>-0.973018</td>\n",
       "      <td>0.733308</td>\n",
       "      <td>-0.100558</td>\n",
       "      <td>-0.752176</td>\n",
       "      <td>-0.614439</td>\n",
       "      <td>0.296763</td>\n",
       "      <td>-0.574410</td>\n",
       "      <td>0.795198</td>\n",
       "      <td>5.0</td>\n",
       "      <td>5.0</td>\n",
       "      <td>4.0</td>\n",
       "    </tr>\n",
       "    <tr>\n",
       "      <th>1456</th>\n",
       "      <td>0.266407</td>\n",
       "      <td>1.061367</td>\n",
       "      <td>0.049262</td>\n",
       "      <td>210000.0</td>\n",
       "      <td>0.126420</td>\n",
       "      <td>0.679039</td>\n",
       "      <td>-0.021102</td>\n",
       "      <td>0.222975</td>\n",
       "      <td>-1.599111</td>\n",
       "      <td>0.759659</td>\n",
       "      <td>0.151865</td>\n",
       "      <td>-0.704483</td>\n",
       "      <td>2.033231</td>\n",
       "      <td>1.645210</td>\n",
       "      <td>0.296763</td>\n",
       "      <td>0.084843</td>\n",
       "      <td>-0.795163</td>\n",
       "      <td>5.0</td>\n",
       "      <td>0.0</td>\n",
       "      <td>5.0</td>\n",
       "    </tr>\n",
       "    <tr>\n",
       "      <th>1457</th>\n",
       "      <td>-0.147810</td>\n",
       "      <td>1.569647</td>\n",
       "      <td>0.701265</td>\n",
       "      <td>266500.0</td>\n",
       "      <td>-1.033914</td>\n",
       "      <td>-0.183951</td>\n",
       "      <td>-1.563645</td>\n",
       "      <td>-1.002492</td>\n",
       "      <td>-0.489110</td>\n",
       "      <td>-0.369871</td>\n",
       "      <td>1.024029</td>\n",
       "      <td>0.201405</td>\n",
       "      <td>-0.752176</td>\n",
       "      <td>1.645210</td>\n",
       "      <td>1.527656</td>\n",
       "      <td>-0.574410</td>\n",
       "      <td>1.844744</td>\n",
       "      <td>6.0</td>\n",
       "      <td>2.0</td>\n",
       "      <td>8.0</td>\n",
       "    </tr>\n",
       "    <tr>\n",
       "      <th>1458</th>\n",
       "      <td>-0.080160</td>\n",
       "      <td>-0.832788</td>\n",
       "      <td>-1.284176</td>\n",
       "      <td>142125.0</td>\n",
       "      <td>-1.090059</td>\n",
       "      <td>-0.093110</td>\n",
       "      <td>-1.188432</td>\n",
       "      <td>-0.704406</td>\n",
       "      <td>-0.859110</td>\n",
       "      <td>-0.865548</td>\n",
       "      <td>0.539493</td>\n",
       "      <td>-0.704483</td>\n",
       "      <td>2.168910</td>\n",
       "      <td>1.645210</td>\n",
       "      <td>-0.934130</td>\n",
       "      <td>-0.574410</td>\n",
       "      <td>-0.795163</td>\n",
       "      <td>4.0</td>\n",
       "      <td>2.0</td>\n",
       "      <td>5.0</td>\n",
       "    </tr>\n",
       "    <tr>\n",
       "      <th>1459</th>\n",
       "      <td>-0.058112</td>\n",
       "      <td>-0.493934</td>\n",
       "      <td>-0.976285</td>\n",
       "      <td>147500.0</td>\n",
       "      <td>-0.921624</td>\n",
       "      <td>0.224833</td>\n",
       "      <td>-0.563077</td>\n",
       "      <td>-0.207594</td>\n",
       "      <td>-0.119110</td>\n",
       "      <td>0.847389</td>\n",
       "      <td>-0.962566</td>\n",
       "      <td>0.322190</td>\n",
       "      <td>5.121921</td>\n",
       "      <td>0.138777</td>\n",
       "      <td>-0.318683</td>\n",
       "      <td>-0.574410</td>\n",
       "      <td>-0.795163</td>\n",
       "      <td>4.0</td>\n",
       "      <td>1.0</td>\n",
       "      <td>5.0</td>\n",
       "    </tr>\n",
       "  </tbody>\n",
       "</table>\n",
       "<p>1460 rows × 20 columns</p>\n",
       "</div>"
      ],
      "text/plain": [
       "       LotArea  GrLivArea  BsmtUnfSF  SalePrice  GarageArea  LotFrontage  \\\n",
       "0    -0.207142   0.370333  -0.944591   208500.0    0.351000    -0.229372   \n",
       "1    -0.091886  -0.482512  -0.641228   181500.0   -0.060731     0.451936   \n",
       "2     0.073480   0.515013  -0.301643   223500.0    0.631726    -0.093110   \n",
       "3    -0.096897   0.383659  -0.061670   140000.0    0.790804    -0.456474   \n",
       "4     0.375148   1.299326  -0.174865   250000.0    1.698485     0.633618   \n",
       "...        ...        ...        ...        ...         ...          ...   \n",
       "1455 -0.260560   0.250402   0.873321   175000.0   -0.060731    -0.365633   \n",
       "1456  0.266407   1.061367   0.049262   210000.0    0.126420     0.679039   \n",
       "1457 -0.147810   1.569647   0.701265   266500.0   -1.033914    -0.183951   \n",
       "1458 -0.080160  -0.832788  -1.284176   142125.0   -1.090059    -0.093110   \n",
       "1459 -0.058112  -0.493934  -0.976285   147500.0   -0.921624     0.224833   \n",
       "\n",
       "      GarageYrBlt  YearBuilt    MoSold  BsmtFinSF1  YearRemodAdd  OpenPorchSF  \\\n",
       "0        1.021157   1.050994 -1.599111    0.575425      0.878668     0.216503   \n",
       "1       -0.104483   0.156734 -0.489110    1.171992     -0.429577    -0.704483   \n",
       "2        0.937776   0.984752  0.990891    0.092907      0.830215    -0.070361   \n",
       "3        0.812705  -1.863632 -1.599111   -0.499274     -0.720298    -0.176048   \n",
       "4        0.896086   0.951632  2.100892    0.463568      0.733308     0.563760   \n",
       "...           ...        ...       ...         ...           ...          ...   \n",
       "1455     0.854395   0.918511  0.620891   -0.973018      0.733308    -0.100558   \n",
       "1456    -0.021102   0.222975 -1.599111    0.759659      0.151865    -0.704483   \n",
       "1457    -1.563645  -1.002492 -0.489110   -0.369871      1.024029     0.201405   \n",
       "1458    -1.188432  -0.704406 -0.859110   -0.865548      0.539493    -0.704483   \n",
       "1459    -0.563077  -0.207594 -0.119110    0.847389     -0.962566     0.322190   \n",
       "\n",
       "      WoodDeckSF    YrSold  TotRmsAbvGrd  MasVnrArea  2ndFlrSF  OverallQual  \\\n",
       "0      -0.752176  0.138777      0.912210    0.511418  1.161852          6.0   \n",
       "1       1.626195 -0.614439     -0.318683   -0.574410 -0.795163          5.0   \n",
       "2      -0.752176  0.138777     -0.318683    0.323060  1.189351          6.0   \n",
       "3      -0.752176 -1.367655      0.296763   -0.574410  0.937276          6.0   \n",
       "4       0.780197  0.138777      1.527656    1.364570  1.617877          7.0   \n",
       "...          ...       ...           ...         ...       ...          ...   \n",
       "1455   -0.752176 -0.614439      0.296763   -0.574410  0.795198          5.0   \n",
       "1456    2.033231  1.645210      0.296763    0.084843 -0.795163          5.0   \n",
       "1457   -0.752176  1.645210      1.527656   -0.574410  1.844744          6.0   \n",
       "1458    2.168910  1.645210     -0.934130   -0.574410 -0.795163          4.0   \n",
       "1459    5.121921  0.138777     -0.318683   -0.574410 -0.795163          4.0   \n",
       "\n",
       "      BsmtFinType1  OverallCond  \n",
       "0              2.0          4.0  \n",
       "1              0.0          7.0  \n",
       "2              2.0          4.0  \n",
       "3              0.0          4.0  \n",
       "4              2.0          4.0  \n",
       "...            ...          ...  \n",
       "1455           5.0          4.0  \n",
       "1456           0.0          5.0  \n",
       "1457           2.0          8.0  \n",
       "1458           2.0          5.0  \n",
       "1459           1.0          5.0  \n",
       "\n",
       "[1460 rows x 20 columns]"
      ]
     },
     "execution_count": 47,
     "metadata": {},
     "output_type": "execute_result"
    }
   ],
   "source": [
    "df_version_2"
   ]
  },
  {
   "cell_type": "code",
   "execution_count": 48,
   "id": "b28e905b",
   "metadata": {
    "execution": {
     "iopub.execute_input": "2023-08-29T14:02:30.893627Z",
     "iopub.status.busy": "2023-08-29T14:02:30.893220Z",
     "iopub.status.idle": "2023-08-29T14:02:30.900791Z",
     "shell.execute_reply": "2023-08-29T14:02:30.899974Z"
    },
    "papermill": {
     "duration": 0.030466,
     "end_time": "2023-08-29T14:02:30.902917",
     "exception": false,
     "start_time": "2023-08-29T14:02:30.872451",
     "status": "completed"
    },
    "tags": []
   },
   "outputs": [],
   "source": [
    "corr_matrix_2=df_version_2.drop('SalePrice',axis=1).corr()"
   ]
  },
  {
   "cell_type": "code",
   "execution_count": 49,
   "id": "0dea6604",
   "metadata": {
    "execution": {
     "iopub.execute_input": "2023-08-29T14:02:30.943525Z",
     "iopub.status.busy": "2023-08-29T14:02:30.943117Z",
     "iopub.status.idle": "2023-08-29T14:02:30.974400Z",
     "shell.execute_reply": "2023-08-29T14:02:30.973359Z"
    },
    "papermill": {
     "duration": 0.0541,
     "end_time": "2023-08-29T14:02:30.976576",
     "exception": false,
     "start_time": "2023-08-29T14:02:30.922476",
     "status": "completed"
    },
    "tags": []
   },
   "outputs": [
    {
     "data": {
      "text/html": [
       "<div>\n",
       "<style scoped>\n",
       "    .dataframe tbody tr th:only-of-type {\n",
       "        vertical-align: middle;\n",
       "    }\n",
       "\n",
       "    .dataframe tbody tr th {\n",
       "        vertical-align: top;\n",
       "    }\n",
       "\n",
       "    .dataframe thead th {\n",
       "        text-align: right;\n",
       "    }\n",
       "</style>\n",
       "<table border=\"1\" class=\"dataframe\">\n",
       "  <thead>\n",
       "    <tr style=\"text-align: right;\">\n",
       "      <th></th>\n",
       "      <th>LotArea</th>\n",
       "      <th>GrLivArea</th>\n",
       "      <th>BsmtUnfSF</th>\n",
       "      <th>GarageArea</th>\n",
       "      <th>LotFrontage</th>\n",
       "      <th>GarageYrBlt</th>\n",
       "      <th>YearBuilt</th>\n",
       "      <th>MoSold</th>\n",
       "      <th>BsmtFinSF1</th>\n",
       "      <th>YearRemodAdd</th>\n",
       "      <th>OpenPorchSF</th>\n",
       "      <th>WoodDeckSF</th>\n",
       "      <th>YrSold</th>\n",
       "      <th>TotRmsAbvGrd</th>\n",
       "      <th>MasVnrArea</th>\n",
       "      <th>2ndFlrSF</th>\n",
       "      <th>OverallQual</th>\n",
       "      <th>BsmtFinType1</th>\n",
       "      <th>OverallCond</th>\n",
       "    </tr>\n",
       "  </thead>\n",
       "  <tbody>\n",
       "    <tr>\n",
       "      <th>LotArea</th>\n",
       "      <td>1.000000</td>\n",
       "      <td>0.263116</td>\n",
       "      <td>-0.002618</td>\n",
       "      <td>0.180403</td>\n",
       "      <td>0.306795</td>\n",
       "      <td>-0.024812</td>\n",
       "      <td>0.014228</td>\n",
       "      <td>0.001205</td>\n",
       "      <td>0.214103</td>\n",
       "      <td>0.013788</td>\n",
       "      <td>0.084774</td>\n",
       "      <td>0.171698</td>\n",
       "      <td>-0.014261</td>\n",
       "      <td>0.190015</td>\n",
       "      <td>0.103960</td>\n",
       "      <td>0.050986</td>\n",
       "      <td>0.105806</td>\n",
       "      <td>-0.061880</td>\n",
       "      <td>-0.005636</td>\n",
       "    </tr>\n",
       "    <tr>\n",
       "      <th>GrLivArea</th>\n",
       "      <td>0.263116</td>\n",
       "      <td>1.000000</td>\n",
       "      <td>0.240257</td>\n",
       "      <td>0.468997</td>\n",
       "      <td>0.368392</td>\n",
       "      <td>0.221977</td>\n",
       "      <td>0.199010</td>\n",
       "      <td>0.050240</td>\n",
       "      <td>0.208171</td>\n",
       "      <td>0.287389</td>\n",
       "      <td>0.330224</td>\n",
       "      <td>0.247433</td>\n",
       "      <td>-0.036526</td>\n",
       "      <td>0.825489</td>\n",
       "      <td>0.389893</td>\n",
       "      <td>0.687501</td>\n",
       "      <td>0.593007</td>\n",
       "      <td>0.073549</td>\n",
       "      <td>-0.079686</td>\n",
       "    </tr>\n",
       "    <tr>\n",
       "      <th>BsmtUnfSF</th>\n",
       "      <td>-0.002618</td>\n",
       "      <td>0.240257</td>\n",
       "      <td>1.000000</td>\n",
       "      <td>0.183303</td>\n",
       "      <td>0.122156</td>\n",
       "      <td>0.186098</td>\n",
       "      <td>0.149040</td>\n",
       "      <td>0.034888</td>\n",
       "      <td>-0.495251</td>\n",
       "      <td>0.181133</td>\n",
       "      <td>0.129005</td>\n",
       "      <td>-0.005316</td>\n",
       "      <td>-0.041258</td>\n",
       "      <td>0.250647</td>\n",
       "      <td>0.114184</td>\n",
       "      <td>0.004469</td>\n",
       "      <td>0.308159</td>\n",
       "      <td>0.458617</td>\n",
       "      <td>-0.136841</td>\n",
       "    </tr>\n",
       "    <tr>\n",
       "      <th>GarageArea</th>\n",
       "      <td>0.180403</td>\n",
       "      <td>0.468997</td>\n",
       "      <td>0.183303</td>\n",
       "      <td>1.000000</td>\n",
       "      <td>0.323663</td>\n",
       "      <td>0.476498</td>\n",
       "      <td>0.478954</td>\n",
       "      <td>0.027974</td>\n",
       "      <td>0.296970</td>\n",
       "      <td>0.371600</td>\n",
       "      <td>0.241435</td>\n",
       "      <td>0.224666</td>\n",
       "      <td>-0.027378</td>\n",
       "      <td>0.337822</td>\n",
       "      <td>0.372567</td>\n",
       "      <td>0.138347</td>\n",
       "      <td>0.562022</td>\n",
       "      <td>-0.061119</td>\n",
       "      <td>-0.151521</td>\n",
       "    </tr>\n",
       "    <tr>\n",
       "      <th>LotFrontage</th>\n",
       "      <td>0.306795</td>\n",
       "      <td>0.368392</td>\n",
       "      <td>0.122156</td>\n",
       "      <td>0.323663</td>\n",
       "      <td>1.000000</td>\n",
       "      <td>0.064324</td>\n",
       "      <td>0.117598</td>\n",
       "      <td>0.010158</td>\n",
       "      <td>0.215828</td>\n",
       "      <td>0.082746</td>\n",
       "      <td>0.137454</td>\n",
       "      <td>0.077106</td>\n",
       "      <td>0.006768</td>\n",
       "      <td>0.320146</td>\n",
       "      <td>0.179283</td>\n",
       "      <td>0.072483</td>\n",
       "      <td>0.234196</td>\n",
       "      <td>-0.025233</td>\n",
       "      <td>-0.052820</td>\n",
       "    </tr>\n",
       "    <tr>\n",
       "      <th>GarageYrBlt</th>\n",
       "      <td>-0.024812</td>\n",
       "      <td>0.221977</td>\n",
       "      <td>0.186098</td>\n",
       "      <td>0.476498</td>\n",
       "      <td>0.064324</td>\n",
       "      <td>1.000000</td>\n",
       "      <td>0.780555</td>\n",
       "      <td>0.005173</td>\n",
       "      <td>0.150338</td>\n",
       "      <td>0.618130</td>\n",
       "      <td>0.218490</td>\n",
       "      <td>0.220623</td>\n",
       "      <td>-0.000987</td>\n",
       "      <td>0.140791</td>\n",
       "      <td>0.249367</td>\n",
       "      <td>0.069315</td>\n",
       "      <td>0.518018</td>\n",
       "      <td>-0.034221</td>\n",
       "      <td>-0.306169</td>\n",
       "    </tr>\n",
       "    <tr>\n",
       "      <th>YearBuilt</th>\n",
       "      <td>0.014228</td>\n",
       "      <td>0.199010</td>\n",
       "      <td>0.149040</td>\n",
       "      <td>0.478954</td>\n",
       "      <td>0.117598</td>\n",
       "      <td>0.780555</td>\n",
       "      <td>1.000000</td>\n",
       "      <td>0.012398</td>\n",
       "      <td>0.249503</td>\n",
       "      <td>0.592855</td>\n",
       "      <td>0.188686</td>\n",
       "      <td>0.224880</td>\n",
       "      <td>-0.013618</td>\n",
       "      <td>0.095589</td>\n",
       "      <td>0.314745</td>\n",
       "      <td>0.010308</td>\n",
       "      <td>0.572323</td>\n",
       "      <td>-0.141327</td>\n",
       "      <td>-0.375983</td>\n",
       "    </tr>\n",
       "    <tr>\n",
       "      <th>MoSold</th>\n",
       "      <td>0.001205</td>\n",
       "      <td>0.050240</td>\n",
       "      <td>0.034888</td>\n",
       "      <td>0.027974</td>\n",
       "      <td>0.010158</td>\n",
       "      <td>0.005173</td>\n",
       "      <td>0.012398</td>\n",
       "      <td>1.000000</td>\n",
       "      <td>-0.015727</td>\n",
       "      <td>0.021490</td>\n",
       "      <td>0.071255</td>\n",
       "      <td>0.021011</td>\n",
       "      <td>-0.145721</td>\n",
       "      <td>0.036907</td>\n",
       "      <td>-0.005940</td>\n",
       "      <td>0.035164</td>\n",
       "      <td>0.070815</td>\n",
       "      <td>0.037916</td>\n",
       "      <td>-0.003511</td>\n",
       "    </tr>\n",
       "    <tr>\n",
       "      <th>BsmtFinSF1</th>\n",
       "      <td>0.214103</td>\n",
       "      <td>0.208171</td>\n",
       "      <td>-0.495251</td>\n",
       "      <td>0.296970</td>\n",
       "      <td>0.215828</td>\n",
       "      <td>0.150338</td>\n",
       "      <td>0.249503</td>\n",
       "      <td>-0.015727</td>\n",
       "      <td>1.000000</td>\n",
       "      <td>0.128451</td>\n",
       "      <td>0.111761</td>\n",
       "      <td>0.204306</td>\n",
       "      <td>0.014359</td>\n",
       "      <td>0.044316</td>\n",
       "      <td>0.263582</td>\n",
       "      <td>-0.137079</td>\n",
       "      <td>0.239666</td>\n",
       "      <td>-0.570973</td>\n",
       "      <td>-0.046231</td>\n",
       "    </tr>\n",
       "    <tr>\n",
       "      <th>YearRemodAdd</th>\n",
       "      <td>0.013788</td>\n",
       "      <td>0.287389</td>\n",
       "      <td>0.181133</td>\n",
       "      <td>0.371600</td>\n",
       "      <td>0.082746</td>\n",
       "      <td>0.618130</td>\n",
       "      <td>0.592855</td>\n",
       "      <td>0.021490</td>\n",
       "      <td>0.128451</td>\n",
       "      <td>1.000000</td>\n",
       "      <td>0.226298</td>\n",
       "      <td>0.205726</td>\n",
       "      <td>0.035743</td>\n",
       "      <td>0.191740</td>\n",
       "      <td>0.179186</td>\n",
       "      <td>0.140024</td>\n",
       "      <td>0.550684</td>\n",
       "      <td>-0.023888</td>\n",
       "      <td>0.073741</td>\n",
       "    </tr>\n",
       "    <tr>\n",
       "      <th>OpenPorchSF</th>\n",
       "      <td>0.084774</td>\n",
       "      <td>0.330224</td>\n",
       "      <td>0.129005</td>\n",
       "      <td>0.241435</td>\n",
       "      <td>0.137454</td>\n",
       "      <td>0.218490</td>\n",
       "      <td>0.188686</td>\n",
       "      <td>0.071255</td>\n",
       "      <td>0.111761</td>\n",
       "      <td>0.226298</td>\n",
       "      <td>1.000000</td>\n",
       "      <td>0.058661</td>\n",
       "      <td>-0.057619</td>\n",
       "      <td>0.234192</td>\n",
       "      <td>0.124965</td>\n",
       "      <td>0.208026</td>\n",
       "      <td>0.308819</td>\n",
       "      <td>-0.005721</td>\n",
       "      <td>-0.032589</td>\n",
       "    </tr>\n",
       "    <tr>\n",
       "      <th>WoodDeckSF</th>\n",
       "      <td>0.171698</td>\n",
       "      <td>0.247433</td>\n",
       "      <td>-0.005316</td>\n",
       "      <td>0.224666</td>\n",
       "      <td>0.077106</td>\n",
       "      <td>0.220623</td>\n",
       "      <td>0.224880</td>\n",
       "      <td>0.021011</td>\n",
       "      <td>0.204306</td>\n",
       "      <td>0.205726</td>\n",
       "      <td>0.058661</td>\n",
       "      <td>1.000000</td>\n",
       "      <td>0.022270</td>\n",
       "      <td>0.165984</td>\n",
       "      <td>0.159349</td>\n",
       "      <td>0.092165</td>\n",
       "      <td>0.238923</td>\n",
       "      <td>-0.120039</td>\n",
       "      <td>-0.003334</td>\n",
       "    </tr>\n",
       "    <tr>\n",
       "      <th>YrSold</th>\n",
       "      <td>-0.014261</td>\n",
       "      <td>-0.036526</td>\n",
       "      <td>-0.041258</td>\n",
       "      <td>-0.027378</td>\n",
       "      <td>0.006768</td>\n",
       "      <td>-0.000987</td>\n",
       "      <td>-0.013618</td>\n",
       "      <td>-0.145721</td>\n",
       "      <td>0.014359</td>\n",
       "      <td>0.035743</td>\n",
       "      <td>-0.057619</td>\n",
       "      <td>0.022270</td>\n",
       "      <td>1.000000</td>\n",
       "      <td>-0.034516</td>\n",
       "      <td>-0.008184</td>\n",
       "      <td>-0.028700</td>\n",
       "      <td>-0.027347</td>\n",
       "      <td>-0.039758</td>\n",
       "      <td>0.043950</td>\n",
       "    </tr>\n",
       "    <tr>\n",
       "      <th>TotRmsAbvGrd</th>\n",
       "      <td>0.190015</td>\n",
       "      <td>0.825489</td>\n",
       "      <td>0.250647</td>\n",
       "      <td>0.337822</td>\n",
       "      <td>0.320146</td>\n",
       "      <td>0.140791</td>\n",
       "      <td>0.095589</td>\n",
       "      <td>0.036907</td>\n",
       "      <td>0.044316</td>\n",
       "      <td>0.191740</td>\n",
       "      <td>0.234192</td>\n",
       "      <td>0.165984</td>\n",
       "      <td>-0.034516</td>\n",
       "      <td>1.000000</td>\n",
       "      <td>0.280027</td>\n",
       "      <td>0.616423</td>\n",
       "      <td>0.427452</td>\n",
       "      <td>0.138140</td>\n",
       "      <td>-0.057583</td>\n",
       "    </tr>\n",
       "    <tr>\n",
       "      <th>MasVnrArea</th>\n",
       "      <td>0.103960</td>\n",
       "      <td>0.389893</td>\n",
       "      <td>0.114184</td>\n",
       "      <td>0.372567</td>\n",
       "      <td>0.179283</td>\n",
       "      <td>0.249367</td>\n",
       "      <td>0.314745</td>\n",
       "      <td>-0.005940</td>\n",
       "      <td>0.263582</td>\n",
       "      <td>0.179186</td>\n",
       "      <td>0.124965</td>\n",
       "      <td>0.159349</td>\n",
       "      <td>-0.008184</td>\n",
       "      <td>0.280027</td>\n",
       "      <td>1.000000</td>\n",
       "      <td>0.174019</td>\n",
       "      <td>0.410238</td>\n",
       "      <td>-0.075128</td>\n",
       "      <td>-0.127788</td>\n",
       "    </tr>\n",
       "    <tr>\n",
       "      <th>2ndFlrSF</th>\n",
       "      <td>0.050986</td>\n",
       "      <td>0.687501</td>\n",
       "      <td>0.004469</td>\n",
       "      <td>0.138347</td>\n",
       "      <td>0.072483</td>\n",
       "      <td>0.069315</td>\n",
       "      <td>0.010308</td>\n",
       "      <td>0.035164</td>\n",
       "      <td>-0.137079</td>\n",
       "      <td>0.140024</td>\n",
       "      <td>0.208026</td>\n",
       "      <td>0.092165</td>\n",
       "      <td>-0.028700</td>\n",
       "      <td>0.616423</td>\n",
       "      <td>0.174019</td>\n",
       "      <td>1.000000</td>\n",
       "      <td>0.295493</td>\n",
       "      <td>0.177696</td>\n",
       "      <td>0.028942</td>\n",
       "    </tr>\n",
       "    <tr>\n",
       "      <th>OverallQual</th>\n",
       "      <td>0.105806</td>\n",
       "      <td>0.593007</td>\n",
       "      <td>0.308159</td>\n",
       "      <td>0.562022</td>\n",
       "      <td>0.234196</td>\n",
       "      <td>0.518018</td>\n",
       "      <td>0.572323</td>\n",
       "      <td>0.070815</td>\n",
       "      <td>0.239666</td>\n",
       "      <td>0.550684</td>\n",
       "      <td>0.308819</td>\n",
       "      <td>0.238923</td>\n",
       "      <td>-0.027347</td>\n",
       "      <td>0.427452</td>\n",
       "      <td>0.410238</td>\n",
       "      <td>0.295493</td>\n",
       "      <td>1.000000</td>\n",
       "      <td>0.011460</td>\n",
       "      <td>-0.091932</td>\n",
       "    </tr>\n",
       "    <tr>\n",
       "      <th>BsmtFinType1</th>\n",
       "      <td>-0.061880</td>\n",
       "      <td>0.073549</td>\n",
       "      <td>0.458617</td>\n",
       "      <td>-0.061119</td>\n",
       "      <td>-0.025233</td>\n",
       "      <td>-0.034221</td>\n",
       "      <td>-0.141327</td>\n",
       "      <td>0.037916</td>\n",
       "      <td>-0.570973</td>\n",
       "      <td>-0.023888</td>\n",
       "      <td>-0.005721</td>\n",
       "      <td>-0.120039</td>\n",
       "      <td>-0.039758</td>\n",
       "      <td>0.138140</td>\n",
       "      <td>-0.075128</td>\n",
       "      <td>0.177696</td>\n",
       "      <td>0.011460</td>\n",
       "      <td>1.000000</td>\n",
       "      <td>-0.087273</td>\n",
       "    </tr>\n",
       "    <tr>\n",
       "      <th>OverallCond</th>\n",
       "      <td>-0.005636</td>\n",
       "      <td>-0.079686</td>\n",
       "      <td>-0.136841</td>\n",
       "      <td>-0.151521</td>\n",
       "      <td>-0.052820</td>\n",
       "      <td>-0.306169</td>\n",
       "      <td>-0.375983</td>\n",
       "      <td>-0.003511</td>\n",
       "      <td>-0.046231</td>\n",
       "      <td>0.073741</td>\n",
       "      <td>-0.032589</td>\n",
       "      <td>-0.003334</td>\n",
       "      <td>0.043950</td>\n",
       "      <td>-0.057583</td>\n",
       "      <td>-0.127788</td>\n",
       "      <td>0.028942</td>\n",
       "      <td>-0.091932</td>\n",
       "      <td>-0.087273</td>\n",
       "      <td>1.000000</td>\n",
       "    </tr>\n",
       "  </tbody>\n",
       "</table>\n",
       "</div>"
      ],
      "text/plain": [
       "               LotArea  GrLivArea  BsmtUnfSF  GarageArea  LotFrontage  \\\n",
       "LotArea       1.000000   0.263116  -0.002618    0.180403     0.306795   \n",
       "GrLivArea     0.263116   1.000000   0.240257    0.468997     0.368392   \n",
       "BsmtUnfSF    -0.002618   0.240257   1.000000    0.183303     0.122156   \n",
       "GarageArea    0.180403   0.468997   0.183303    1.000000     0.323663   \n",
       "LotFrontage   0.306795   0.368392   0.122156    0.323663     1.000000   \n",
       "GarageYrBlt  -0.024812   0.221977   0.186098    0.476498     0.064324   \n",
       "YearBuilt     0.014228   0.199010   0.149040    0.478954     0.117598   \n",
       "MoSold        0.001205   0.050240   0.034888    0.027974     0.010158   \n",
       "BsmtFinSF1    0.214103   0.208171  -0.495251    0.296970     0.215828   \n",
       "YearRemodAdd  0.013788   0.287389   0.181133    0.371600     0.082746   \n",
       "OpenPorchSF   0.084774   0.330224   0.129005    0.241435     0.137454   \n",
       "WoodDeckSF    0.171698   0.247433  -0.005316    0.224666     0.077106   \n",
       "YrSold       -0.014261  -0.036526  -0.041258   -0.027378     0.006768   \n",
       "TotRmsAbvGrd  0.190015   0.825489   0.250647    0.337822     0.320146   \n",
       "MasVnrArea    0.103960   0.389893   0.114184    0.372567     0.179283   \n",
       "2ndFlrSF      0.050986   0.687501   0.004469    0.138347     0.072483   \n",
       "OverallQual   0.105806   0.593007   0.308159    0.562022     0.234196   \n",
       "BsmtFinType1 -0.061880   0.073549   0.458617   -0.061119    -0.025233   \n",
       "OverallCond  -0.005636  -0.079686  -0.136841   -0.151521    -0.052820   \n",
       "\n",
       "              GarageYrBlt  YearBuilt    MoSold  BsmtFinSF1  YearRemodAdd  \\\n",
       "LotArea         -0.024812   0.014228  0.001205    0.214103      0.013788   \n",
       "GrLivArea        0.221977   0.199010  0.050240    0.208171      0.287389   \n",
       "BsmtUnfSF        0.186098   0.149040  0.034888   -0.495251      0.181133   \n",
       "GarageArea       0.476498   0.478954  0.027974    0.296970      0.371600   \n",
       "LotFrontage      0.064324   0.117598  0.010158    0.215828      0.082746   \n",
       "GarageYrBlt      1.000000   0.780555  0.005173    0.150338      0.618130   \n",
       "YearBuilt        0.780555   1.000000  0.012398    0.249503      0.592855   \n",
       "MoSold           0.005173   0.012398  1.000000   -0.015727      0.021490   \n",
       "BsmtFinSF1       0.150338   0.249503 -0.015727    1.000000      0.128451   \n",
       "YearRemodAdd     0.618130   0.592855  0.021490    0.128451      1.000000   \n",
       "OpenPorchSF      0.218490   0.188686  0.071255    0.111761      0.226298   \n",
       "WoodDeckSF       0.220623   0.224880  0.021011    0.204306      0.205726   \n",
       "YrSold          -0.000987  -0.013618 -0.145721    0.014359      0.035743   \n",
       "TotRmsAbvGrd     0.140791   0.095589  0.036907    0.044316      0.191740   \n",
       "MasVnrArea       0.249367   0.314745 -0.005940    0.263582      0.179186   \n",
       "2ndFlrSF         0.069315   0.010308  0.035164   -0.137079      0.140024   \n",
       "OverallQual      0.518018   0.572323  0.070815    0.239666      0.550684   \n",
       "BsmtFinType1    -0.034221  -0.141327  0.037916   -0.570973     -0.023888   \n",
       "OverallCond     -0.306169  -0.375983 -0.003511   -0.046231      0.073741   \n",
       "\n",
       "              OpenPorchSF  WoodDeckSF    YrSold  TotRmsAbvGrd  MasVnrArea  \\\n",
       "LotArea          0.084774    0.171698 -0.014261      0.190015    0.103960   \n",
       "GrLivArea        0.330224    0.247433 -0.036526      0.825489    0.389893   \n",
       "BsmtUnfSF        0.129005   -0.005316 -0.041258      0.250647    0.114184   \n",
       "GarageArea       0.241435    0.224666 -0.027378      0.337822    0.372567   \n",
       "LotFrontage      0.137454    0.077106  0.006768      0.320146    0.179283   \n",
       "GarageYrBlt      0.218490    0.220623 -0.000987      0.140791    0.249367   \n",
       "YearBuilt        0.188686    0.224880 -0.013618      0.095589    0.314745   \n",
       "MoSold           0.071255    0.021011 -0.145721      0.036907   -0.005940   \n",
       "BsmtFinSF1       0.111761    0.204306  0.014359      0.044316    0.263582   \n",
       "YearRemodAdd     0.226298    0.205726  0.035743      0.191740    0.179186   \n",
       "OpenPorchSF      1.000000    0.058661 -0.057619      0.234192    0.124965   \n",
       "WoodDeckSF       0.058661    1.000000  0.022270      0.165984    0.159349   \n",
       "YrSold          -0.057619    0.022270  1.000000     -0.034516   -0.008184   \n",
       "TotRmsAbvGrd     0.234192    0.165984 -0.034516      1.000000    0.280027   \n",
       "MasVnrArea       0.124965    0.159349 -0.008184      0.280027    1.000000   \n",
       "2ndFlrSF         0.208026    0.092165 -0.028700      0.616423    0.174019   \n",
       "OverallQual      0.308819    0.238923 -0.027347      0.427452    0.410238   \n",
       "BsmtFinType1    -0.005721   -0.120039 -0.039758      0.138140   -0.075128   \n",
       "OverallCond     -0.032589   -0.003334  0.043950     -0.057583   -0.127788   \n",
       "\n",
       "              2ndFlrSF  OverallQual  BsmtFinType1  OverallCond  \n",
       "LotArea       0.050986     0.105806     -0.061880    -0.005636  \n",
       "GrLivArea     0.687501     0.593007      0.073549    -0.079686  \n",
       "BsmtUnfSF     0.004469     0.308159      0.458617    -0.136841  \n",
       "GarageArea    0.138347     0.562022     -0.061119    -0.151521  \n",
       "LotFrontage   0.072483     0.234196     -0.025233    -0.052820  \n",
       "GarageYrBlt   0.069315     0.518018     -0.034221    -0.306169  \n",
       "YearBuilt     0.010308     0.572323     -0.141327    -0.375983  \n",
       "MoSold        0.035164     0.070815      0.037916    -0.003511  \n",
       "BsmtFinSF1   -0.137079     0.239666     -0.570973    -0.046231  \n",
       "YearRemodAdd  0.140024     0.550684     -0.023888     0.073741  \n",
       "OpenPorchSF   0.208026     0.308819     -0.005721    -0.032589  \n",
       "WoodDeckSF    0.092165     0.238923     -0.120039    -0.003334  \n",
       "YrSold       -0.028700    -0.027347     -0.039758     0.043950  \n",
       "TotRmsAbvGrd  0.616423     0.427452      0.138140    -0.057583  \n",
       "MasVnrArea    0.174019     0.410238     -0.075128    -0.127788  \n",
       "2ndFlrSF      1.000000     0.295493      0.177696     0.028942  \n",
       "OverallQual   0.295493     1.000000      0.011460    -0.091932  \n",
       "BsmtFinType1  0.177696     0.011460      1.000000    -0.087273  \n",
       "OverallCond   0.028942    -0.091932     -0.087273     1.000000  "
      ]
     },
     "execution_count": 49,
     "metadata": {},
     "output_type": "execute_result"
    }
   ],
   "source": [
    "corr_matrix_2"
   ]
  },
  {
   "cell_type": "code",
   "execution_count": 50,
   "id": "4692b8bb",
   "metadata": {
    "execution": {
     "iopub.execute_input": "2023-08-29T14:02:31.019990Z",
     "iopub.status.busy": "2023-08-29T14:02:31.019605Z",
     "iopub.status.idle": "2023-08-29T14:02:31.031866Z",
     "shell.execute_reply": "2023-08-29T14:02:31.031017Z"
    },
    "papermill": {
     "duration": 0.036983,
     "end_time": "2023-08-29T14:02:31.034202",
     "exception": false,
     "start_time": "2023-08-29T14:02:30.997219",
     "status": "completed"
    },
    "tags": []
   },
   "outputs": [
    {
     "name": "stdout",
     "output_type": "stream",
     "text": [
      "Correlated variable pairs:\n",
      "('GrLivArea', 'TotRmsAbvGrd', 0.8254893743088426)\n",
      "('GrLivArea', '2ndFlrSF', 0.6875010641666043)\n",
      "('GarageYrBlt', 'YearBuilt', 0.7805549935309498)\n",
      "('GarageYrBlt', 'YearRemodAdd', 0.6181298421366529)\n",
      "('TotRmsAbvGrd', '2ndFlrSF', 0.6164226354915432)\n"
     ]
    }
   ],
   "source": [
    "# Set the correlation threshold\n",
    "correlation_threshold =0.6\n",
    "\n",
    "# Find correlated variable pairs\n",
    "correlated_pairs = []\n",
    "for i in range(len(corr_matrix_2.columns)):\n",
    "    for j in range(i + 1, len(corr_matrix_2.columns)):\n",
    "        if abs(corr_matrix_2.iloc[i, j]) >= correlation_threshold:\n",
    "            correlated_pairs.append((corr_matrix_2.columns[i], corr_matrix_2.columns[j],abs(corr_matrix_2.iloc[i, j])))\n",
    "\n",
    "print(\"Correlated variable pairs:\")\n",
    "for pair in correlated_pairs:\n",
    "    print(pair)"
   ]
  },
  {
   "cell_type": "code",
   "execution_count": 51,
   "id": "4d4ea889",
   "metadata": {
    "execution": {
     "iopub.execute_input": "2023-08-29T14:02:31.077216Z",
     "iopub.status.busy": "2023-08-29T14:02:31.076850Z",
     "iopub.status.idle": "2023-08-29T14:02:31.082883Z",
     "shell.execute_reply": "2023-08-29T14:02:31.081846Z"
    },
    "papermill": {
     "duration": 0.030416,
     "end_time": "2023-08-29T14:02:31.085137",
     "exception": false,
     "start_time": "2023-08-29T14:02:31.054721",
     "status": "completed"
    },
    "tags": []
   },
   "outputs": [],
   "source": [
    "df_version_2=df_version_2.drop(['GarageYrBlt','YearRemodAdd'],axis=1)"
   ]
  },
  {
   "cell_type": "code",
   "execution_count": 52,
   "id": "2f8cc3de",
   "metadata": {
    "execution": {
     "iopub.execute_input": "2023-08-29T14:02:31.128359Z",
     "iopub.status.busy": "2023-08-29T14:02:31.127961Z",
     "iopub.status.idle": "2023-08-29T14:02:31.133431Z",
     "shell.execute_reply": "2023-08-29T14:02:31.132478Z"
    },
    "papermill": {
     "duration": 0.02937,
     "end_time": "2023-08-29T14:02:31.135598",
     "exception": false,
     "start_time": "2023-08-29T14:02:31.106228",
     "status": "completed"
    },
    "tags": []
   },
   "outputs": [],
   "source": [
    "feature_importance_tuples = [item for item in feature_importance_tuples if item[0] not in top_feature_names_2]"
   ]
  },
  {
   "cell_type": "code",
   "execution_count": 53,
   "id": "7c7a13e8",
   "metadata": {
    "execution": {
     "iopub.execute_input": "2023-08-29T14:02:31.178030Z",
     "iopub.status.busy": "2023-08-29T14:02:31.177629Z",
     "iopub.status.idle": "2023-08-29T14:02:31.184873Z",
     "shell.execute_reply": "2023-08-29T14:02:31.183658Z"
    },
    "papermill": {
     "duration": 0.031128,
     "end_time": "2023-08-29T14:02:31.187073",
     "exception": false,
     "start_time": "2023-08-29T14:02:31.155945",
     "status": "completed"
    },
    "tags": []
   },
   "outputs": [
    {
     "data": {
      "text/plain": [
       "[('BedroomAbvGr', 0.016113280221267914),\n",
       " ('MSSubClass', 0.015933001784538423),\n",
       " ('BsmtExposure', 0.014631324921503062),\n",
       " ('Fireplaces', 0.013588406072414658),\n",
       " ('HeatingQC', 0.01286208317445564),\n",
       " ('LotShape', 0.011738829915981994),\n",
       " ('GarageCars', 0.011019292305441535),\n",
       " ('BsmtFullBath', 0.010599191874017146),\n",
       " ('EnclosedPorch', 0.010558502072651441)]"
      ]
     },
     "execution_count": 53,
     "metadata": {},
     "output_type": "execute_result"
    }
   ],
   "source": [
    "feature_importance_tuples[:9]"
   ]
  },
  {
   "cell_type": "code",
   "execution_count": 54,
   "id": "69c4452b",
   "metadata": {
    "execution": {
     "iopub.execute_input": "2023-08-29T14:02:31.234814Z",
     "iopub.status.busy": "2023-08-29T14:02:31.234435Z",
     "iopub.status.idle": "2023-08-29T14:02:31.271762Z",
     "shell.execute_reply": "2023-08-29T14:02:31.269032Z"
    },
    "papermill": {
     "duration": 0.06609,
     "end_time": "2023-08-29T14:02:31.275217",
     "exception": false,
     "start_time": "2023-08-29T14:02:31.209127",
     "status": "completed"
    },
    "tags": []
   },
   "outputs": [
    {
     "name": "stdout",
     "output_type": "stream",
     "text": [
      "r2_score train: 0.7708032531541353\n",
      "r2_score test: 0.8213098823284926\n"
     ]
    }
   ],
   "source": [
    "# Séparer les données en fonctionnalités (X) et cible (y)\n",
    "X = df_version_2.drop('SalePrice', axis=1)\n",
    "y = df_version_2['SalePrice']\n",
    "\n",
    "# Diviser les données en ensembles d'entraînement et de test\n",
    "X_train, X_test, y_train, y_test = train_test_split(X, y, test_size=0.3, random_state=42)\n",
    "\n",
    "# Créer un modèle de régression linéaire\n",
    "model_reg = LinearRegression()\n",
    "\n",
    "# Entraîner le modèle sur l'ensemble d'entraînement\n",
    "model_reg.fit(X_train, y_train)\n",
    "\n",
    "# Faire des prédictions sur l'ensemble de test\n",
    "y_pred_train= model_reg.predict(X_train)\n",
    "y_pred = model_reg.predict(X_test)\n",
    "# Calculer la métrique d'évaluation (par exemple, l'erreur quadratique moyenne)\n",
    "r2_train=r2_score(y_train, y_pred_train)\n",
    "r2_test = r2_score(y_test, y_pred)\n",
    "print(f\"r2_score train: {r2_train}\")\n",
    "print(f\"r2_score test: {r2_test}\")"
   ]
  },
  {
   "cell_type": "code",
   "execution_count": 55,
   "id": "733a4ee5",
   "metadata": {
    "execution": {
     "iopub.execute_input": "2023-08-29T14:02:31.381783Z",
     "iopub.status.busy": "2023-08-29T14:02:31.381413Z",
     "iopub.status.idle": "2023-08-29T14:03:58.165900Z",
     "shell.execute_reply": "2023-08-29T14:03:58.164948Z"
    },
    "papermill": {
     "duration": 86.850441,
     "end_time": "2023-08-29T14:03:58.189865",
     "exception": false,
     "start_time": "2023-08-29T14:02:31.339424",
     "status": "completed"
    },
    "tags": []
   },
   "outputs": [
    {
     "name": "stderr",
     "output_type": "stream",
     "text": [
      "/opt/conda/lib/python3.10/site-packages/sklearn/ensemble/_forest.py:583: UserWarning: Some inputs do not have OOB scores. This probably means too few trees were used to compute any reliable OOB estimates.\n",
      "  warn(\n"
     ]
    },
    {
     "name": "stdout",
     "output_type": "stream",
     "text": [
      "Best n_estimators: 860\n"
     ]
    }
   ],
   "source": [
    "estimators_range = np.arange(10, 1000, 50)  # Adjust the step size according to your preference\n",
    "oob_scores = []\n",
    "\n",
    "for n_estimators in estimators_range:\n",
    "    model = RandomForestRegressor(n_estimators=n_estimators, oob_score=True, random_state=42)\n",
    "    model.fit(X_train, y_train)\n",
    "    oob_scores.append(model.oob_score_)\n",
    "\n",
    "best_n_estimators = estimators_range[np.argmax(oob_scores)]\n",
    "print(f\"Best n_estimators: {best_n_estimators}\")"
   ]
  },
  {
   "cell_type": "code",
   "execution_count": 56,
   "id": "01abc9d8",
   "metadata": {
    "execution": {
     "iopub.execute_input": "2023-08-29T14:03:58.234351Z",
     "iopub.status.busy": "2023-08-29T14:03:58.233742Z",
     "iopub.status.idle": "2023-08-29T14:04:48.036546Z",
     "shell.execute_reply": "2023-08-29T14:04:48.035368Z"
    },
    "papermill": {
     "duration": 49.8281,
     "end_time": "2023-08-29T14:04:48.038848",
     "exception": false,
     "start_time": "2023-08-29T14:03:58.210748",
     "status": "completed"
    },
    "tags": []
   },
   "outputs": [
    {
     "name": "stdout",
     "output_type": "stream",
     "text": [
      "R² Scores: [0.87221554 0.85810223 0.85858198 0.87071816 0.77643116]\n",
      "Mean R²: 0.8472098149724072\n",
      "r2_score train: 0.9760202081087894\n",
      "r2_score test: 0.8914657142548039\n"
     ]
    }
   ],
   "source": [
    "model = RandomForestRegressor(n_estimators=best_n_estimators, random_state=42)\n",
    "scores = cross_val_score(model, X, y, cv=5, scoring='r2')\n",
    "print(\"R² Scores:\", scores)\n",
    "print(\"Mean R²:\", scores.mean())\n",
    "model.fit(X_train, y_train)\n",
    "y_pred_train= model.predict(X_train)\n",
    "# Faire des prédictions sur l'ensemble de test\n",
    "y_pred = model.predict(X_test)\n",
    "r2_train=r2_score(y_train, y_pred_train)\n",
    "r2_test = r2_score(y_test, y_pred)\n",
    "print(f\"r2_score train: {r2_train}\")\n",
    "print(f\"r2_score test: {r2_test}\")"
   ]
  }
 ],
 "metadata": {
  "kernelspec": {
   "display_name": "Python 3",
   "language": "python",
   "name": "python3"
  },
  "language_info": {
   "codemirror_mode": {
    "name": "ipython",
    "version": 3
   },
   "file_extension": ".py",
   "mimetype": "text/x-python",
   "name": "python",
   "nbconvert_exporter": "python",
   "pygments_lexer": "ipython3",
   "version": "3.10.12"
  },
  "papermill": {
   "default_parameters": {},
   "duration": 229.02572,
   "end_time": "2023-08-29T14:04:48.983916",
   "environment_variables": {},
   "exception": null,
   "input_path": "__notebook__.ipynb",
   "output_path": "__notebook__.ipynb",
   "parameters": {},
   "start_time": "2023-08-29T14:00:59.958196",
   "version": "2.4.0"
  }
 },
 "nbformat": 4,
 "nbformat_minor": 5
}
