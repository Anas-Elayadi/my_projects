{
 "cells": [
  {
   "cell_type": "code",
   "execution_count": 1,
   "id": "27295612",
   "metadata": {},
   "outputs": [],
   "source": [
    "import pandas as pd\n",
    "import numpy as np"
   ]
  },
  {
   "cell_type": "code",
   "execution_count": 2,
   "id": "163915de",
   "metadata": {},
   "outputs": [],
   "source": [
    "data=pd.read_csv('ObesityDataSet.csv',usecols=['Gender','Weight','family_history_with_overweight'])"
   ]
  },
  {
   "cell_type": "code",
   "execution_count": 3,
   "id": "2c72db08",
   "metadata": {},
   "outputs": [],
   "source": [
    "data['Gender'].replace({'Female': 'F', 'Male': 'M'}, inplace=True)"
   ]
  },
  {
   "cell_type": "code",
   "execution_count": 4,
   "id": "be3f195f",
   "metadata": {},
   "outputs": [],
   "source": [
    "data['Weight']=data['Weight'].astype(int)"
   ]
  },
  {
   "cell_type": "code",
   "execution_count": 5,
   "id": "b97e313e",
   "metadata": {},
   "outputs": [],
   "source": [
    "miss_val=data.isnull()"
   ]
  },
  {
   "cell_type": "code",
   "execution_count": 6,
   "id": "12740404",
   "metadata": {},
   "outputs": [
    {
     "data": {
      "text/plain": [
       "Gender                            0\n",
       "Weight                            0\n",
       "family_history_with_overweight    0\n",
       "dtype: int64"
      ]
     },
     "execution_count": 6,
     "metadata": {},
     "output_type": "execute_result"
    }
   ],
   "source": [
    "miss_val.sum()"
   ]
  },
  {
   "cell_type": "code",
   "execution_count": 7,
   "id": "9f9148d0",
   "metadata": {},
   "outputs": [],
   "source": [
    "data.to_csv('Obesity.csv',index=False)"
   ]
  },
  {
   "cell_type": "code",
   "execution_count": 8,
   "id": "9efcdc07",
   "metadata": {},
   "outputs": [
    {
     "data": {
      "text/html": [
       "<div>\n",
       "<style scoped>\n",
       "    .dataframe tbody tr th:only-of-type {\n",
       "        vertical-align: middle;\n",
       "    }\n",
       "\n",
       "    .dataframe tbody tr th {\n",
       "        vertical-align: top;\n",
       "    }\n",
       "\n",
       "    .dataframe thead th {\n",
       "        text-align: right;\n",
       "    }\n",
       "</style>\n",
       "<table border=\"1\" class=\"dataframe\">\n",
       "  <thead>\n",
       "    <tr style=\"text-align: right;\">\n",
       "      <th></th>\n",
       "      <th>Gender</th>\n",
       "      <th>Weight</th>\n",
       "      <th>family_history_with_overweight</th>\n",
       "    </tr>\n",
       "  </thead>\n",
       "  <tbody>\n",
       "    <tr>\n",
       "      <th>0</th>\n",
       "      <td>F</td>\n",
       "      <td>64</td>\n",
       "      <td>yes</td>\n",
       "    </tr>\n",
       "    <tr>\n",
       "      <th>1</th>\n",
       "      <td>F</td>\n",
       "      <td>56</td>\n",
       "      <td>yes</td>\n",
       "    </tr>\n",
       "    <tr>\n",
       "      <th>2</th>\n",
       "      <td>M</td>\n",
       "      <td>77</td>\n",
       "      <td>yes</td>\n",
       "    </tr>\n",
       "    <tr>\n",
       "      <th>3</th>\n",
       "      <td>M</td>\n",
       "      <td>87</td>\n",
       "      <td>no</td>\n",
       "    </tr>\n",
       "    <tr>\n",
       "      <th>4</th>\n",
       "      <td>M</td>\n",
       "      <td>89</td>\n",
       "      <td>no</td>\n",
       "    </tr>\n",
       "    <tr>\n",
       "      <th>...</th>\n",
       "      <td>...</td>\n",
       "      <td>...</td>\n",
       "      <td>...</td>\n",
       "    </tr>\n",
       "    <tr>\n",
       "      <th>2106</th>\n",
       "      <td>F</td>\n",
       "      <td>131</td>\n",
       "      <td>yes</td>\n",
       "    </tr>\n",
       "    <tr>\n",
       "      <th>2107</th>\n",
       "      <td>F</td>\n",
       "      <td>133</td>\n",
       "      <td>yes</td>\n",
       "    </tr>\n",
       "    <tr>\n",
       "      <th>2108</th>\n",
       "      <td>F</td>\n",
       "      <td>133</td>\n",
       "      <td>yes</td>\n",
       "    </tr>\n",
       "    <tr>\n",
       "      <th>2109</th>\n",
       "      <td>F</td>\n",
       "      <td>133</td>\n",
       "      <td>yes</td>\n",
       "    </tr>\n",
       "    <tr>\n",
       "      <th>2110</th>\n",
       "      <td>F</td>\n",
       "      <td>133</td>\n",
       "      <td>yes</td>\n",
       "    </tr>\n",
       "  </tbody>\n",
       "</table>\n",
       "<p>2109 rows × 3 columns</p>\n",
       "</div>"
      ],
      "text/plain": [
       "     Gender  Weight family_history_with_overweight\n",
       "0         F      64                            yes\n",
       "1         F      56                            yes\n",
       "2         M      77                            yes\n",
       "3         M      87                             no\n",
       "4         M      89                             no\n",
       "...     ...     ...                            ...\n",
       "2106      F     131                            yes\n",
       "2107      F     133                            yes\n",
       "2108      F     133                            yes\n",
       "2109      F     133                            yes\n",
       "2110      F     133                            yes\n",
       "\n",
       "[2109 rows x 3 columns]"
      ]
     },
     "execution_count": 8,
     "metadata": {},
     "output_type": "execute_result"
    }
   ],
   "source": [
    "# Créer des groupes en utilisant les variables 'sexe' et 'antécédents familiaux'\n",
    "mean = data['Weight'].mean()\n",
    "std = data['Weight'].std()\n",
    "\n",
    "# supprimer les valeurs aberrantes\n",
    "\n",
    "#data['Weight']=np.log(data['Weight'])\n",
    "data = data[(data['Weight'] >= mean - 3 * std) & (data['Weight'] <= mean + 3 * std)]\n",
    "data"
   ]
  },
  {
   "cell_type": "code",
   "execution_count": 9,
   "id": "a520504d",
   "metadata": {},
   "outputs": [],
   "source": [
    "from scipy.stats import levene"
   ]
  },
  {
   "cell_type": "code",
   "execution_count": 10,
   "id": "ae80fe26",
   "metadata": {},
   "outputs": [],
   "source": [
    "grouped_data = data.groupby(['Gender', 'family_history_with_overweight'])\n",
    "# Appliquer le test de Levene pour tester l'homogénéité de variance\n",
    "test_result = levene(*[group['Weight'] for name, group in grouped_data])"
   ]
  },
  {
   "cell_type": "code",
   "execution_count": 11,
   "id": "a0d0ecdf",
   "metadata": {
    "scrolled": true
   },
   "outputs": [
    {
     "name": "stdout",
     "output_type": "stream",
     "text": [
      "Il y a une différence significative dans les variances pour au moins une combinaison de variables.\n"
     ]
    }
   ],
   "source": [
    "if test_result.pvalue > 0.05:\n",
    "    print(\"Les variances sont homogènes pour toutes les combinaisons de variables.\")\n",
    "else:\n",
    "    print(\"Il y a une différence significative dans les variances pour au moins une combinaison de variables.\")"
   ]
  },
  {
   "cell_type": "code",
   "execution_count": 12,
   "id": "51f1a5aa",
   "metadata": {},
   "outputs": [],
   "source": [
    "from scipy.stats import bartlett"
   ]
  },
  {
   "cell_type": "code",
   "execution_count": 13,
   "id": "1d568380",
   "metadata": {},
   "outputs": [],
   "source": [
    "groupes = data.groupby([\"Gender\", \"family_history_with_overweight\"])[\"Weight\"].apply(list)\n",
    "stat, p = bartlett(*groupes)"
   ]
  },
  {
   "cell_type": "code",
   "execution_count": 14,
   "id": "9693c681",
   "metadata": {},
   "outputs": [
    {
     "name": "stdout",
     "output_type": "stream",
     "text": [
      "Les variances des groupes sont significativement différentes\n"
     ]
    }
   ],
   "source": [
    "if p < 0.05:\n",
    "    print(\"Les variances des groupes sont significativement différentes\")\n",
    "else:\n",
    "    print(\"Les variances des groupes ne sont pas significativement différentes\")"
   ]
  },
  {
   "cell_type": "code",
   "execution_count": 15,
   "id": "ff309196",
   "metadata": {
    "scrolled": true
   },
   "outputs": [
    {
     "data": {
      "text/plain": [
       "Gender  family_history_with_overweight\n",
       "F       no                                11898\n",
       "        yes                               73376\n",
       "M       no                                10763\n",
       "        yes                               85667\n",
       "Name: Weight, dtype: int32"
      ]
     },
     "execution_count": 15,
     "metadata": {},
     "output_type": "execute_result"
    }
   ],
   "source": [
    "moyennes= data.groupby([\"Gender\", \"family_history_with_overweight\"])['Weight'].sum()\n",
    "moyennes"
   ]
  }
 ],
 "metadata": {
  "kernelspec": {
   "display_name": "Python 3 (ipykernel)",
   "language": "python",
   "name": "python3"
  },
  "language_info": {
   "codemirror_mode": {
    "name": "ipython",
    "version": 3
   },
   "file_extension": ".py",
   "mimetype": "text/x-python",
   "name": "python",
   "nbconvert_exporter": "python",
   "pygments_lexer": "ipython3",
   "version": "3.9.13"
  }
 },
 "nbformat": 4,
 "nbformat_minor": 5
}
